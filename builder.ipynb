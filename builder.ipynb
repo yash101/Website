{
 "cells": [
  {
   "cell_type": "code",
   "execution_count": 1,
   "id": "e463be13-3c8e-4d3e-a6bf-237c36f873f3",
   "metadata": {},
   "outputs": [],
   "source": [
    "import json\n",
    "import "
   ]
  },
  {
   "cell_type": "code",
   "execution_count": null,
   "id": "b91ab435-81e4-4687-87eb-7ff4a971fb38",
   "metadata": {},
   "outputs": [],
   "source": []
  }
 ],
 "metadata": {
  "kernelspec": {
   "display_name": "Python 3 (ipykernel)",
   "language": "python",
   "name": "python3"
  },
  "language_info": {
   "codemirror_mode": {
    "name": "ipython",
    "version": 3
   },
   "file_extension": ".py",
   "mimetype": "text/x-python",
   "name": "python",
   "nbconvert_exporter": "python",
   "pygments_lexer": "ipython3",
   "version": "3.13.1"
  }
 },
 "nbformat": 4,
 "nbformat_minor": 5
}
