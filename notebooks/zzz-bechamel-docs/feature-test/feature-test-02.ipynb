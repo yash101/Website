{
 "cells": [
  {
   "cell_type": "raw",
   "id": "41553855-9fe3-434c-9101-ec6f2ac07c05",
   "metadata": {
    "vscode": {
     "languageId": "raw"
    }
   },
   "source": [
    "root = 'docs'\n",
    "name = 'feature-test'\n",
    "\n",
    "title = 'Feature Test'\n",
    "subtitle = 'Extended Features'\n",
    "page = 2\n",
    "isPublished = true\n",
    "\n",
    "authors = 'yash101'\n",
    "\n",
    "publishedOn = '2025-01-30T04:57:57.694Z'\n",
    "lastModifiedOn = '2025-01-30T04:57:57.694Z'"
   ]
  },
  {
   "cell_type": "markdown",
   "id": "6d50ba56-c67a-4fdd-b632-8fa85c51d211",
   "metadata": {},
   "source": [
    "### Tables"
   ]
  },
  {
   "cell_type": "markdown",
   "id": "0a5db180-a0ac-4969-9356-d204d7058d63",
   "metadata": {},
   "source": [
    "```markdown\n",
    "| Syntax      | Description |\n",
    "| ----------- | ----------- |\n",
    "| Header      | Title       |\n",
    "| Paragraph   | Text        |\n",
    "\n",
    "\n",
    "| Syntax | Description |\n",
    "| --- | ----------- |\n",
    "| Header | Title |\n",
    "| Paragraph | Text |\n",
    "```\n",
    "\n",
    "| Syntax      | Description |\n",
    "| ----------- | ----------- |\n",
    "| Header      | Title       |\n",
    "| Paragraph   | Text        |\n",
    "\n",
    "\n",
    "| Syntax | Description |\n",
    "| --- | ----------- |\n",
    "| Header | Title |\n",
    "| Paragraph | Text |"
   ]
  },
  {
   "cell_type": "markdown",
   "id": "a5e3bb38-6060-4e49-bddb-3a21e5e91fce",
   "metadata": {},
   "source": [
    "### Tables (alignment)\n",
    "\n",
    "```markdown\n",
    "| Syntax      | Description | Test Text     |\n",
    "| :---        |    :----:   |          ---: |\n",
    "| Header      | Title       | Here's this   |\n",
    "| Paragraph   | Text        | And more      |\n",
    "```\n",
    "\n",
    "| Syntax      | Description | Test Text     |\n",
    "| :---        |    :----:   |          ---: |\n",
    "| Header      | Title       | Here's this   |\n",
    "| Paragraph   | Text        | And more      |"
   ]
  },
  {
   "cell_type": "markdown",
   "id": "856c8026-a08b-43e2-9069-d821cfe3264f",
   "metadata": {},
   "source": [
    "### Footnotes\n",
    "\n",
    "```markdown\n",
    "Here's a simple footnote,[^1] and here's a longer one.[^bignote]\n",
    "\n",
    "[^1]: This is the first footnote.\n",
    "\n",
    "[^bignote]: Here's one with multiple paragraphs and code.\n",
    "\n",
    "    Indent paragraphs to include them in the footnote.\n",
    "\n",
    "    `{ my code }`\n",
    "\n",
    "    Add as many paragraphs as you like.\n",
    "```\n",
    "\n",
    "Here's a simple footnote,[^1] and here's a longer one.[^bignote]\n",
    "\n",
    "[^1]: This is the first footnote.\n",
    "\n",
    "[^bignote]: Here's one with multiple paragraphs and code.\n",
    "\n",
    "    Indent paragraphs to include them in the footnote.\n",
    "\n",
    "    `{ my code }`\n",
    "\n",
    "    Add as many paragraphs as you like."
   ]
  },
  {
   "cell_type": "markdown",
   "id": "ff524562-0670-4d87-8719-90afce1e7081",
   "metadata": {},
   "source": [
    "### Heading with ID (note, I don't think this is enabled currently)\n",
    "\n",
    "```markdown\n",
    "### My Great Heading {#custom-id}\n",
    "```\n",
    "\n",
    "### My Great Heading {#custom-id}\n"
   ]
  },
  {
   "cell_type": "markdown",
   "id": "be54c0f1-091e-42a5-b6d4-f4b413848d7a",
   "metadata": {},
   "source": [
    "### Definition lists"
   ]
  },
  {
   "cell_type": "markdown",
   "id": "7b19dae8-3462-4c99-8753-f26fb8fdf371",
   "metadata": {},
   "source": [
    "```markdown\n",
    "First Term\n",
    ": This is the definition of the first term.\n",
    "\n",
    "Second Term\n",
    ": This is one definition of the second term.\n",
    ": This is another definition of the second term.\n",
    "```\n",
    "\n",
    "First Term\n",
    ": This is the definition of the first term.\n",
    "\n",
    "Second Term\n",
    ": This is one definition of the second term.\n",
    ": This is another definition of the second term."
   ]
  },
  {
   "cell_type": "markdown",
   "id": "45fb4f06-135a-497f-9a61-6193621b354e",
   "metadata": {},
   "source": [
    "### Strikethrough & Highlight\n",
    "\n",
    "```markdown\n",
    "~~The world is flat.~~ We now know that the world is round.\n",
    "\n",
    "==very important words==\n",
    "```\n",
    "\n",
    "~~The world is flat.~~ We now know that the world is round.\n",
    "\n",
    "==very important words=="
   ]
  },
  {
   "cell_type": "markdown",
   "id": "65595ea2-6139-4261-8652-0597dd72bb98",
   "metadata": {},
   "source": [
    "### Task Lists\n",
    "\n",
    "```markdown\n",
    "- [x] Write the press release\n",
    "- [ ] Update the website\n",
    "- [ ] Contact the media\n",
    "```\n",
    "\n",
    "- [x] Write the press release\n",
    "- [ ] Update the website\n",
    "- [ ] Contact the media"
   ]
  },
  {
   "cell_type": "markdown",
   "id": "74a7b622-68ae-49f6-a74a-00c00bcf2454",
   "metadata": {},
   "source": [
    "### Emojis"
   ]
  },
  {
   "cell_type": "markdown",
   "id": "a0ccbbdc-7909-464b-a3ce-fdd0910f1f6b",
   "metadata": {},
   "source": [
    "```markdown\n",
    "Just directly add an emoji: 🐶\n",
    "\n",
    "Or use a [shortcode (full database)](https://github.com/markdown-it/markdown-it-emoji/blob/master/lib/data/full.mjs): :satellite:\n",
    "```\n",
    "\n",
    "Just directly add an emoji: 🐶\n",
    "\n",
    "Or use a [shortcode (full database)](https://github.com/markdown-it/markdown-it-emoji/blob/master/lib/data/full.mjs): :satellite:\n",
    "\n",
    "Note: emoji shortcodes don't seem to be supported in Jupyter lab, but some work on GitHub."
   ]
  },
  {
   "cell_type": "markdown",
   "id": "41b8f119-07fc-4d20-912f-e2330f93ea7a",
   "metadata": {},
   "source": [
    "### Subscript & Superscript\n",
    "\n",
    "```markdown\n",
    "H~2~O\n",
    "\n",
    "X^2^\n",
    "```\n",
    "\n",
    "H~2~O\n",
    "\n",
    "X^2^"
   ]
  },
  {
   "cell_type": "markdown",
   "id": "d94833b5-73f4-4a21-b6c1-96686df952e5",
   "metadata": {},
   "source": [
    "### Automatic URL linking"
   ]
  },
  {
   "cell_type": "markdown",
   "id": "abe3c5a6-a83c-40a3-83ae-dfc74d591d70",
   "metadata": {},
   "source": [
    "Just paste a URL, in fact I won't even put a code block here because what you see is what you get :)\n",
    "\n",
    "http://www.example.com"
   ]
  },
  {
   "cell_type": "markdown",
   "id": "d39aa5ef-bf0c-4b66-b160-a6aa405da7dc",
   "metadata": {},
   "source": [
    "## Next Page\n",
    "\n",
    "In the next page, we will check out some of the widgets supported."
   ]
  }
 ],
 "metadata": {
  "kernelspec": {
   "display_name": "Python 3 (ipykernel)",
   "language": "python",
   "name": "python3"
  },
  "language_info": {
   "codemirror_mode": {
    "name": "ipython",
    "version": 3
   },
   "file_extension": ".py",
   "mimetype": "text/x-python",
   "name": "python",
   "nbconvert_exporter": "python",
   "pygments_lexer": "ipython3",
   "version": "3.13.1"
  }
 },
 "nbformat": 4,
 "nbformat_minor": 5
}
