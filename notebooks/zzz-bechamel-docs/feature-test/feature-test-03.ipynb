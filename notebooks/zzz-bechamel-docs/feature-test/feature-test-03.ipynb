{
 "cells": [
  {
   "cell_type": "raw",
   "id": "a404c43f-c379-4e4f-be15-9bbc14920fa4",
   "metadata": {
    "vscode": {
     "languageId": "raw"
    }
   },
   "source": [
    "root = 'docs'\n",
    "name = 'feature-test'\n",
    "\n",
    "title = 'Feature Test'\n",
    "subtitle = 'Markdown Widgets'\n",
    "page = 3\n",
    "isPublished = true\n",
    "\n",
    "authors = 'yash101'\n",
    "\n",
    "publishedOn = '2025-01-30T04:57:57.694Z'\n",
    "lastModifiedOn = '2025-01-30T04:57:57.694Z'"
   ]
  },
  {
   "cell_type": "markdown",
   "id": "ec2aabbd-d594-4562-a297-729bc5784ac5",
   "metadata": {},
   "source": [
    "### Alerts"
   ]
  },
  {
   "cell_type": "markdown",
   "id": "80a2777d-8996-463c-b711-d7f55f97edef",
   "metadata": {},
   "source": [
    "Alerts (these seem to be working, but I haven't styled them yet (missing CSS)\n",
    "\n",
    "```markdown\n",
    "> [!warning]\n",
    "> This is warning text\n",
    ">\n",
    "> > [!warning]\n",
    "> > This is a nested warning\n",
    "\n",
    "- > [!warning]\n",
    "  > This is warning text\n",
    "```\n",
    "\n",
    "> [!warning]\n",
    "> This is warning text\n",
    ">\n",
    "> > [!warning]\n",
    "> > This is a nested warning\n",
    "\n",
    "- > [!warning]\n",
    "  > This is warning text"
   ]
  },
  {
   "cell_type": "markdown",
   "id": "580bd008-a08d-44b8-aed8-2a84e136d9ed",
   "metadata": {},
   "source": [
    "### Tabs\n",
    "\n",
    "```markdown\n",
    "::: tabs#fruit\n",
    "\n",
    "@tab apple#apple\n",
    "\n",
    "Apple\n",
    "\n",
    "@tab banana#banana\n",
    "\n",
    "Banana\n",
    "\n",
    ":::\n",
    "```\n",
    "\n",
    "::: tabs#fruit\n",
    "\n",
    "@tab apple#apple\n",
    "\n",
    "Apple\n",
    "\n",
    "* hello\n",
    "* world\n",
    "\n",
    "> blockquote\n",
    "\n",
    "@tab banana#banana\n",
    "\n",
    "Banana\n",
    "\n",
    ":::"
   ]
  },
  {
   "cell_type": "markdown",
   "id": "4b449db9-8ad9-4405-a105-192d7e1ede69",
   "metadata": {},
   "source": [
    "## Next Page\n",
    "\n",
    "In the next page, we will explore some of the raw-cell embeds."
   ]
  }
 ],
 "metadata": {
  "kernelspec": {
   "display_name": "Python 3 (ipykernel)",
   "language": "python",
   "name": "python3"
  },
  "language_info": {
   "codemirror_mode": {
    "name": "ipython",
    "version": 3
   },
   "file_extension": ".py",
   "mimetype": "text/x-python",
   "name": "python",
   "nbconvert_exporter": "python",
   "pygments_lexer": "ipython3",
   "version": "3.13.1"
  }
 },
 "nbformat": 4,
 "nbformat_minor": 5
}
