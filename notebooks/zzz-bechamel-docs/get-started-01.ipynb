{
 "cells": [
  {
   "cell_type": "raw",
   "id": "da3c033e-8dae-49fd-b5ae-89f2fec9970e",
   "metadata": {
    "vscode": {
     "languageId": "raw"
    }
   },
   "source": [
    "root = 'docs'\n",
    "name = 'get-started'\n",
    "\n",
    "title = 'Get Started'\n",
    "subtitle = 'Introduction'\n",
    "page = 1\n",
    "isPublished = true\n",
    "\n",
    "authors = 'yash101'\n",
    "\n",
    "publishedOn = '2025-01-30T04:57:57.694Z'\n",
    "lastModifiedOn = '2025-01-30T04:57:57.694Z'"
   ]
  },
  {
   "cell_type": "markdown",
   "id": "d4e46768-83a1-45f8-9a84-f9143bafdbbd",
   "metadata": {},
   "source": [
    "Get started with JupyNext! This article provides documentation on JupyNext and how to get started as well as customize it."
   ]
  },
  {
   "cell_type": "markdown",
   "id": "5696d13a-68af-4c75-9ee2-0308ad093e23",
   "metadata": {},
   "source": [
    "## ✨ Key Features of JupyNext\n",
    "\n",
    "- **Cost-Effective**: Deploy to S3 or any static hosting for pennies\n",
    "- **Interactive Development**: Full Jupyter/JupyterLab interface support\n",
    "- **Lightning Fast**: Most content is static-site generated (SSG), so serve it off a CDN and achieve blazing fast performance!\n",
    "- **Simple Workflow**: Just write notebooks, commit, and deploy\n",
    "- **Embeds**: Strong embeds so you can add a ton of interactability into your pages\n",
    "- **React-based**: Create custom components, embeds and so much more without adding a ton of complexity or performance impact\n",
    "\n",
    "Oh, and did I say *performance*? Most content, especially all your markdown content and code blocks are statically rendered using server components only!"
   ]
  },
  {
   "cell_type": "markdown",
   "id": "91c47350-6228-4cf7-938d-378ef15b4828",
   "metadata": {},
   "source": [
    "JupyNext\n",
    ": a static site generator based around [Jupyter notebooks](https://jupyter.org/).\n",
    "\n",
    "When creating a website or a blog, it is often beneficial to have a CMS (content management system) to host the content and keep it separate from the design. However, content management systems pose a huge tradeoff which needs to be made:\n",
    "\n",
    "::: tabs\n",
    "\n",
    "@tab JupyNext#jupynext\n",
    "\n",
    "**pros**:\n",
    "\n",
    "* Absolutely no backend\n",
    "* Statically export and deploy to CDN\n",
    "* Create your own embeds and components using React\n",
    "* WYSIWYG editor when you use Jupyter notebooks (JupyterLab or Jupyter Notebook (legacy))\n",
    "\n",
    "**cons**:\n",
    "\n",
    "* Lack of features, primarily due to the lack of maturity in this project\n",
    "* JupyNext's markdown renderer is different from Jupyter's renderer leading to some inconsistencies\n",
    "\n",
    "@tab Normal CMS#cms\n",
    "\n",
    "**pros**:\n",
    "\n",
    "* Very powerful\n",
    "* Immediately change content\n",
    "* Normally have really good WYSIWYG editors\n",
    "\n",
    "**cons**:\n",
    "\n",
    "* Often require a backend (many exceptions, such as Jekyll)\n",
    "* Creating plugins can be much harder than implementing a new React component\n",
    "\n",
    ":::\n",
    "\n",
    "JupyNext is a website and blog platform which uses Jupyter notebooks as the writing medium."
   ]
  },
  {
   "cell_type": "markdown",
   "id": "7bb73581-4de4-4997-b42f-e7e1b7df612f",
   "metadata": {},
   "source": [
    "## Some Goals\n",
    "\n",
    "### JavaScript? 🤢\n",
    "\n",
    "Since basic content is fully SSG (static site generated) through the magic of Next.js, your pages should render even with JavaScript disabled! Insane, right!\n",
    "\n",
    "Obviously, any interactive blocks (such as embeds) won't render."
   ]
  },
  {
   "cell_type": "markdown",
   "id": "d3225936-ed6d-4756-af7f-d07885bc4a25",
   "metadata": {},
   "source": [
    "## Quickstart"
   ]
  },
  {
   "cell_type": "markdown",
   "id": "3758e740-c474-42a6-ba41-1dace8b136e3",
   "metadata": {},
   "source": [
    "### Install\n",
    "\n",
    "```bash\n",
    "git clone git@github.com:yash101/jupyter-next-site-platform.git\n",
    "cd jupyter-next-site-platform\n",
    "npm install --force # Some dependency issues since some deps don't fully support React 19\n",
    "npm run prebuild\n",
    "npm run dev\n",
    "```"
   ]
  },
  {
   "cell_type": "markdown",
   "id": "4e4f97df-6699-460a-87f3-24e4459ff47f",
   "metadata": {},
   "source": [
    "### Your first notebook\n",
    "\n",
    "**First cell in each notebook - metadata**:\n",
    "\n",
    "```toml\n",
    "root = 'some-base-url'\n",
    "name = 'some-article'\n",
    "title = 'Some Article'\n",
    "subtitle = 'Page one of Some Article'\n",
    "page = 1\n",
    "isPublished = true\n",
    "authors = 'yash101'\n",
    "\n",
    "lastModifiedOn = '2025-02-07T20:56:17.277Z'\n",
    "publishedOn = '2025-02-07T00:00:00.277Z'\n",
    "```\n",
    "\n",
    "Note, displayed format is TOML. JSON is also supported.\n",
    "\n",
    "**Second cell**:\n",
    "\n",
    "If the notebook is for the **first page** of an article, the second cell will be used as the **hero content** for the article, displayed in a blog view if that is enabled for the **root**.\n",
    "\n",
    "**Content**: the rest of the cells of your notebook are for your content!"
   ]
  },
  {
   "cell_type": "markdown",
   "id": "2f068a73-1094-4315-b055-5169b760f848",
   "metadata": {},
   "source": [
    "### `_site-structure.json` - How the Sidebar / Menu Behaves\n",
    "\n",
    "```json\n",
    "{\n",
    "  \"roots\": {\n",
    "    \"pages\": {\n",
    "      \"menuTitle\": \"Pages\",\n",
    "      \"rootType\": \"Pages\",\n",
    "      \"displayArticlesInMenu\": true,\n",
    "      \"pageTitle\": \"Pages\",\n",
    "      \"linkInMenu\": false\n",
    "    },\n",
    "    \"deep-dive\": {\n",
    "      \"linkInMenu\": true,\n",
    "      \"menuTitle\": \"Deep Dives\",\n",
    "      \"rootType\": \"Blog\",\n",
    "      \"displayArticlesInMenu\": true,\n",
    "      \"pageTitle\": \"Deep Dives by Yash\"\n",
    "    }\n",
    "  }\n",
    "}\n",
    "```\n",
    "\n",
    "* Each `root` is a base in the URL of the website.\n",
    "  * Example, articles in the root `pages` would be `/pages/{article_name}/{page_number}`\n",
    "  * Example, articles in the root `deep-dives` would be `/deep-dives/{article_name}/{page_number}`\n",
    "\n",
    "* `linkInMenu`: whether to link the root to `/{root}`\n",
    "* `menuTitle`: Title to display in the Menu\n",
    "* `rootType`: `Blog` OR `Pages`\n",
    "  * `Blog`: display a blog view at `/{root}` showing the articles, their hero section, and a list of the pages\n",
    "  * `Pages`: currently implemented as a `404 error`\n",
    "* `displayArticlesInMenu`: whether to list articles under the `root` in the sidebar or menu\n",
    "\n",
    "**The `_site-structure.json` should be placed in the root of the `/notebooks` directory.\n",
    "\n",
    "Behavior in the future may have more site configuration in here."
   ]
  },
  {
   "cell_type": "markdown",
   "id": "1c2435c5-146c-449c-9c75-bf1674bb572d",
   "metadata": {},
   "source": [
    "## Update Site Configuration"
   ]
  },
  {
   "cell_type": "markdown",
   "id": "e79ef335-4e10-4ad2-ba10-681c9a279db4",
   "metadata": {},
   "source": [
    "Update `/src/site-config.ts` with your site title and any other settings."
   ]
  },
  {
   "cell_type": "markdown",
   "id": "89d518cc-2899-470a-b45b-46b589982f25",
   "metadata": {},
   "source": [
    "## Deploying\n",
    "\n",
    "### Static export\n",
    "\n",
    "1. Install Node `v22.13.0` or later\n",
    "2. Run `./ci.sh` or `npm run ci-build` to build and export the website\n",
    "3. Deploy `/out` to your host of choice\n",
    "4. Redirect URLs without an extension (such as `.html`) to `.html`. This should be the default setting with most hosts.\n",
    "\n",
    "### Vercel/Netlify: Connect your repository for automatic deployments\n",
    "\n",
    "Note: I haven't tested this. If you do, please PR an update to this documentation with the steps you took!\n",
    "\n",
    "### Cloudflare Pages\n",
    "\n",
    "* Use the following configuration:\n",
    "  * Build command: `npm run ci-build`\n",
    "  * Build output: `out`\n",
    "  * Environment variables:\n",
    "    * `NODE_VERSION` is `v22.13.0`\n",
    "    * `SKIP_DEPENDENCY_INSTALL` is `1` since some of the dependencies used *\"don't support\"* React 19."
   ]
  }
 ],
 "metadata": {
  "kernelspec": {
   "display_name": "Python 3 (ipykernel)",
   "language": "python",
   "name": "python3"
  },
  "language_info": {
   "codemirror_mode": {
    "name": "ipython",
    "version": 3
   },
   "file_extension": ".py",
   "mimetype": "text/x-python",
   "name": "python",
   "nbconvert_exporter": "python",
   "pygments_lexer": "ipython3",
   "version": "3.13.1"
  }
 },
 "nbformat": 4,
 "nbformat_minor": 5
}
