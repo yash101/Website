{
 "cells": [
  {
   "cell_type": "raw",
   "id": "66776dcd-63f1-46d0-8c6c-47aa48b1ab8d",
   "metadata": {},
   "source": [
    "root = 'for-dummies'\n",
    "name = 'search-engines'\n",
    "title = 'Search Engines'\n",
    "subtitle = 'Introduction & The Search Problem'\n",
    "page = 1\n",
    "isPublished = true\n",
    "authors = 'yash101'\n",
    "\n",
    "lastModifiedOn = '2025-02-07T20:56:17.277Z'\n",
    "publishedOn = '2025-02-07T00:00:00.277Z'"
   ]
  },
  {
   "cell_type": "markdown",
   "id": "eaeffabb-cc8d-4a2f-ad65-5cc45fbf7d9c",
   "metadata": {},
   "source": [
    "Search engines are everywhere! You probably used a search engine to find this article. Google, Bing, Yahoo, how do these work? And how can we build a simple but effective search engine?\n",
    "\n",
    "Join me as we dive deep into understanding the science of search, attempt to build our own client-side search engine.\n",
    "\n",
    "This article is written with the first-principles approach. Instead of jumping straight to established methods, we will start with something familiar, looking up a topic in a textbook. Then we will work towards improving and optimizing our search methods to make our search engine lightweight, yet functional."
   ]
  },
  {
   "cell_type": "markdown",
   "id": "317b7716-a3ed-4c2d-8aa9-6cc14275c4ad",
   "metadata": {},
   "source": [
    "## **Note: this article is currently a published preview**\n",
    "\n",
    "It's unfinished, and expect inconsistencies and errors. Raise issues [here](https://github.com/yash101/Website/issues) with recommendations or feedback."
   ]
  },
  {
   "cell_type": "markdown",
   "id": "5e5ca9c2-37d2-4f3e-86d7-30498c2f3b2a",
   "metadata": {},
   "source": [
    "## A Note from the Author\n",
    "\n",
    "Hi, I'm Yash!\n",
    "\n",
    "I'm excited about the search problem. The goal of this article was to learn how search engines work, build my own simple search engine, and use it as an opportunity to write high quality teaching content about search. This is my first time writing a principles-first article and I'd love your feedback!\n",
    "\n",
    "Currently, this website does not support commenting (I'm trying to figure out if there's a backend-free way to implement it still). Thus, feel free to share your feedback by [raising an issue on GitHub](https://github.com/yash101/Website)!\n",
    "\n",
    "Thanks,\n",
    "yash"
   ]
  },
  {
   "cell_type": "markdown",
   "id": "c9caa420-d376-4445-8f2b-10a26d54b343",
   "metadata": {},
   "source": [
    "## 🏋️‍♂️ Who this is for?\n",
    "\n",
    "This article was designed to cater to most people. If you're new to coding, especially in JavaScript or Python, you may have difficulty understanding some of the algorithms. However, I try to dive deep into the different topics along the way so there should be something for everyone to learn!"
   ]
  },
  {
   "cell_type": "markdown",
   "id": "a4ba8adc-6b06-4397-91f1-ad773e51a411",
   "metadata": {},
   "source": [
    "## 💪 Motivation\n",
    "\n",
    "**💡 I have a few project ideas in mind which would require search algorithms**\n",
    "\n",
    "* Implement search on this website\n",
    "* Implement a better search engine for wikis such as Confluence or Wikipedia\n",
    "* Implement a financial data engine"
   ]
  },
  {
   "cell_type": "markdown",
   "id": "769194fe-1b78-49ca-b683-750545004a78",
   "metadata": {},
   "source": [
    "## 🧠 Learning\n",
    "\n",
    "My goal with writing this article is to learn how search works through trial-and-error, building a search engine, and describing how it works along with the topics I learn along the way.\n",
    "\n",
    "Instead of researching existing search engine architectures, I’m taking a first-principles approach. Instead of jumping straight to established methods or using something which exists (SOLR, Lucene, Elasic). Thus, this article serves as a log of my journey."
   ]
  },
  {
   "cell_type": "markdown",
   "id": "9dc61ff0-cb47-49c0-a070-1b822d77ce11",
   "metadata": {},
   "source": [
    "## ⛳️ Goals\n",
    "\n",
    "Some goals for this project:\n",
    "\n",
    "* Learn how search engines work\n",
    "* Learn some NLP (natural language processing) techniques\n",
    "* Achieve a decent accuracy\n",
    "* Search should have no backend, and be run 100% in the browser\n",
    "* Search should support unicode. Languages other than English exist, and so do emojis."
   ]
  },
  {
   "cell_type": "markdown",
   "id": "bb8f5201-0418-4342-924b-367688d1a562",
   "metadata": {},
   "source": [
    "## 🎯 End Result\n",
    "\n",
    "By the end of this article, we should have a working lightweight search engine with an offline indexing process and fully client-side search implemented."
   ]
  },
  {
   "cell_type": "markdown",
   "id": "af8dcbfd-3819-4404-93ca-e12411700e14",
   "metadata": {},
   "source": [
    "## 🛠️ Tools Used\n",
    "\n",
    "* Node.js (v22.13.0)\n",
    "* [Enron Emails Dataset](https://www.cs.cmu.edu/~enron/) - used for large scale test data\n",
    "    * Downloaded from Project Gutenberg and transformed to a JSON for ease of use in this project. The processing is outside the scope of this article and the JSON may contain errors.\n",
    "* [Æsop's Fables](https://www.gutenberg.org/ebooks/21) - used for test data in our demos\n",
    "* Web Browser with JavaScript support\n",
    "    * The majority of code will be written in JavaScript since it runs natively in browsers\n",
    "* Python\n",
    "    * Used for visualization, data preprocessing and validation of my JavaScript models and code"
   ]
  },
  {
   "cell_type": "markdown",
   "id": "618efa34-1574-4c66-b0a9-c912efa99a7c",
   "metadata": {},
   "source": [
    "## 🔎 Search, The Problem\n",
    "\n",
    "Once upon a time, the internet was in its infancy, Google was still under development, and CLRS, The legendary *Introduction to Algorithms* textbook was just published. But none of that mattered, you had a biology assignment due which required you to understand *prokaryotic organisms*. While the Internet offered little in help, your best resource sat in front of you - **a biology textbook**!\n",
    "\n",
    "Now, take a moment and think... How do you find a topic in a textbook?\n",
    "\n",
    "You *could* read the entire textbook, every single page, and find out more about *prokaryotic organisms*, but is that your best approach? Do you have the time to read through every single page for your assignment? Probably not. Thus, we need to do better and use the resources we have available to ourselves to find a better process.\n",
    "\n",
    "What resources does the textbook provide you to efficiently find what you are looking for?"
   ]
  },
  {
   "cell_type": "markdown",
   "id": "8ed6bcec-d52d-4ab1-8634-6fd083b821dc",
   "metadata": {},
   "source": [
    "## 📔 Search, The Textbook Method\n",
    "\n",
    "Textbooks normally have two tools, available to your disposal, to help you find information quickly:\n",
    "\n",
    "1. **Table of Contents (TOC)** at the beginning\n",
    "2. **Index** at the end\n",
    "\n",
    "Each of these tools work differently from each other, but together, they make searching for topics much faster than flipping through pages.\n",
    "\n",
    "Table of Contents\n",
    ": like a roadmap, listing chapters and sections in order, allowing you to navigate through a book top-down.\n",
    "\n",
    "If you need to learn about bacteria, the table of contents may contain\n",
    "\n",
    "```\n",
    "📖 Chapter 3: Bacteria and Prokaryotes (Page 45)\n",
    "```\n",
    "\n",
    "In this example, the table of contents shows where to read about bacteria, the whole concept. But if you need something very specific, like *\"Gram-positive bacteria\"*, you may be unable to find that in the table of contents.\n",
    "\n",
    "Index\n",
    ": maps topics and terms to their location. Instead of listing topics by chapters, it lists every single important word or term in **alphabetical order**, along with the exact page numbers.\n",
    "\n",
    "For example, if you need *Gram-positive Bacteria*, you can check the index:\n",
    "\n",
    "```\n",
    "🔍 Gram-positive bacteria – Pages 26, 28, 47\n",
    "```\n",
    "\n",
    "Using the **index**, you are able to navigate straight to the correct page efficiently.\n",
    "\n",
    "**Can we model a simple search engine off the same process used to find a topic in a book?**"
   ]
  },
  {
   "cell_type": "markdown",
   "id": "04f3503f-990e-4bc7-a1d2-5eb7f38c1113",
   "metadata": {},
   "source": [
    "## ⏭️ Next Section\n",
    "\n",
    "In the next section, we will acquire data and clean it up."
   ]
  }
 ],
 "metadata": {
  "kernelspec": {
   "display_name": "Python 3 (ipykernel)",
   "language": "python",
   "name": "python3"
  },
  "language_info": {
   "codemirror_mode": {
    "name": "ipython",
    "version": 3
   },
   "file_extension": ".py",
   "mimetype": "text/x-python",
   "name": "python",
   "nbconvert_exporter": "python",
   "pygments_lexer": "ipython3",
   "version": "3.13.1"
  }
 },
 "nbformat": 4,
 "nbformat_minor": 5
}
