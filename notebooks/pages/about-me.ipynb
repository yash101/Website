{
 "cells": [
  {
   "cell_type": "raw",
   "id": "90d4dde0-b3e6-43bd-a5d5-3b5649e30dd2",
   "metadata": {},
   "source": [
    "root = 'pages'\n",
    "name = 'about-me'\n",
    "page = 6\n",
    "title = 'About Me'\n",
    "subtitle = \"Hi, I'm Yash!\"\n",
    "isPublished = true\n",
    "author = 'yash101'\n",
    "publishedOn = '2025-02-03T04:57:57.694Z'\n",
    "lastModifiedOn = '2025-02-03T04:57:57.694Z'"
   ]
  },
  {
   "cell_type": "markdown",
   "id": "8fc62f40-7ab3-40f5-a6a3-21ee94a3b749",
   "metadata": {},
   "source": [
    "Hi, I'm Yash!"
   ]
  },
  {
   "cell_type": "markdown",
   "id": "168247e7-5377-44e7-a389-a480fa6170dd",
   "metadata": {},
   "source": [
    "## Introduction\n",
    "\n",
    "I am a software engineer, hardware hacker and security researcher who enjoys solving hard problems, breaking things (ethically), and making systems faster, safer, and more efficient through algorithmic improvements and removing complexities.\n",
    "\n",
    "It is my strong belief that code is a liability, not an asset. My primary focus in software engineering has been on how to do more with less."
   ]
  },
  {
   "cell_type": "markdown",
   "id": "e56544b2-e695-4123-b46e-9b8a49ceaf47",
   "metadata": {},
   "source": [
    "## What I'm Working on\n",
    "\n",
    "1) 🌐 This website. While I'm not a web developer by interest, I built this website to showcase my skills and provide an outlet to write articles as I research and learn.\n",
    "2) 😆 A secret startup, details coming out soon.\n",
    "3) ⛕ DataFlo. DataFlo is a streaming data microservices library meant to connect services together with high throughput, low latency and *optional* reliability communication methods.\n",
    "4) 💲 Automatic market research and trading through large scale data scraping and multi-modal RL\n",
    "\n",
    "I'm also working on a few other projects but they are not open source."
   ]
  },
  {
   "cell_type": "markdown",
   "id": "1e3bf5a2-d8a9-4f02-807c-b0478f543a13",
   "metadata": {},
   "source": [
    "## What I'm Learning\n",
    "\n",
    "* React / Next.js (for this website)\n",
    "* iOS app development (for some startup ideas I have)"
   ]
  },
  {
   "cell_type": "markdown",
   "id": "25405429-4f85-4800-ab40-86f86c66c844",
   "metadata": {},
   "source": [
    "## Interests\n",
    "\n",
    "* Low-latency systems\n",
    "* Cybersecurity and red teaming\n",
    "* Reverse engineering and exploit development\n",
    "* System hardening through KISS\n",
    "* Hardware acceleration, through CUDA, OpenCL, OpenACC, FPGAs\n",
    "* Artificial Intelligence\n",
    "    * Traditional computer vision (non-ML)\n",
    "    * CNNs, ConvLSTM, RNN, RL, Agentic AI (primarily though RL), LLMs\n",
    "* Large scale data analysis\n",
    "* Search and large scale data structures\n",
    "* Embedded systems (Microcontrollers, SoCs, FreeRTOS, Linux)\n",
    "* Learning new things and trying the impossible"
   ]
  },
  {
   "cell_type": "markdown",
   "id": "2434944d-e981-4442-a0b1-a8205723779a",
   "metadata": {},
   "source": [
    "## Experience\n",
    "\n"
   ]
  },
  {
   "cell_type": "markdown",
   "id": "4c97ec2d-b1bb-44a4-86c8-7bc13f8c0fa5",
   "metadata": {},
   "source": [
    "### American Express, inc.\n",
    "\n",
    "* Critical company-wide infrastructure and application cybersecurity (sandbox escape, network security, application security, reentrant bugs), with exploit writing to prove my findings\n",
    "* Played a key role in revamping the AtWork card management portal and delivering it to market\n",
    "* Led the resilience / high availability testing of the entire AtWork @ American Express architecture, targeting legacy applications. Worked to improve the replication strategy of our main database and provided notes to overhaul the fault tolerance and failover behavior of legacy apps\n",
    "* Wrote automatic script to set up dev systems and automatically fix issues within 30 minutes\n",
    "* Wrote a fault-tolerant Jenkins build automation tool to trigger serial builds (easily 30+ builds), saving 3-6 hours of developer time on each deployment of legacy applications, while reducing the chance of error.\n",
    "* Wrote the browser automation tests for AtWork homepage and card management legacy apps, introducing browser automation testing into my org for the first time\n",
    "* Achieved 100% unit test coverage and decent PIT scores for most of my code\n",
    "* Coordinated 1+ budgeted colleague engagement event per month, celebrating our accomplishments and our employees\n",
    "\n",
    "### More\n",
    "\n",
    "Check my linkedin plsssss"
   ]
  },
  {
   "cell_type": "markdown",
   "id": "6b28357a",
   "metadata": {},
   "source": [
    "## Contact Me\n",
    "\n",
    "* [LinkedIn](https://linkedin.com/in/yash101)\n",
    "* [GitHub](https://github.com/yash101)\n",
    "* [Email me](mailto:external@devya.sh?subject=Whaaaaaalo%20there!&body=Thanks%20for%20clicking%20through.%20You're%20officially%20my%20favorite%20person%20today!%20I'm%20sittin'%20here%2C%20as%20lonely%20as%20a%20koala%20at%20a%20eucalyptus%20party%2C%20just%20waiting%20for%20a%20ripper%20email%20from%20you.%0A%0ASo%2C%20fire%20up%20that%20keyboard%20and%20let's%20talk!%0A%0A)"
   ]
  }
 ],
 "metadata": {
  "kernelspec": {
   "display_name": "Python 3",
   "language": "python",
   "name": "python3"
  },
  "language_info": {
   "codemirror_mode": {
    "name": "ipython",
    "version": 3
   },
   "file_extension": ".py",
   "mimetype": "text/x-python",
   "name": "python",
   "nbconvert_exporter": "python",
   "pygments_lexer": "ipython3",
   "version": "3.13.1"
  }
 },
 "nbformat": 4,
 "nbformat_minor": 5
}
