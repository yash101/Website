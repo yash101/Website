{
 "cells": [
  {
   "cell_type": "raw",
   "id": "0a07f5e2-f09b-4695-ac0e-de1e642fd489",
   "metadata": {},
   "source": [
    "{\n",
    "    \"title\": \"About Me\"\n",
    "}"
   ]
  },
  {
   "cell_type": "markdown",
   "id": "0e33d252-d83d-4e90-bf45-12f25cfc48b4",
   "metadata": {},
   "source": [
    "# About Me"
   ]
  },
  {
   "cell_type": "markdown",
   "id": "3ddf09ec-1b61-46c5-8bf0-2bd321b1ce21",
   "metadata": {},
   "source": [
    "Hi, I'm Devyash, although I frequently go by Yash!\n",
    "\n",
    "I'm a software engineer who graduated in 2020 from ASU."
   ]
  },
  {
   "cell_type": "markdown",
   "id": "d5d0d67e-c8d3-41d9-9604-4dd37edac70e",
   "metadata": {},
   "source": [
    "## Values"
   ]
  },
  {
   "cell_type": "markdown",
   "id": "834e2e3b-e2ee-4056-a259-c4a8fa0196c7",
   "metadata": {},
   "source": [
    "Whenever I work on something, I consider the impacts it has to my core values:\n",
    "\n",
    "1) Cybersecurity\n",
    "2) Public Safety\n",
    "3) Do no evil\n",
    "4) Accessibility\n",
    "\n",
    "**Cybersecurity**: ...\n",
    "\n",
    "**Public Safety**\n",
    "\n",
    "\n",
    "**Do no Evil**:\n",
    "\n",
    "\n",
    "**Accessibility** and internationalization:\n",
    "\n",
    "We are all unique with the way we think, our capabilities, our knowledge, and our ways of communication. I am a strong believer that quality products are not for one person, but instead, for all.\n",
    "\n",
    "**Software Performance & Efficiency**:\n",
    "\n"
   ]
  },
  {
   "cell_type": "markdown",
   "id": "0044b6db-40fc-41ac-bb8a-e31f395b9c01",
   "metadata": {},
   "source": [
    "## Goals"
   ]
  },
  {
   "cell_type": "markdown",
   "id": "988a5a59-3952-43b9-acc8-a527c834a717",
   "metadata": {},
   "source": [
    "## Experience"
   ]
  },
  {
   "cell_type": "markdown",
   "id": "11c7f288-0303-4538-af32-497b18cbf17e",
   "metadata": {},
   "source": [
    "## Interests"
   ]
  },
  {
   "cell_type": "markdown",
   "id": "9cb54340-29cd-43af-9244-3add523bd87d",
   "metadata": {},
   "source": [
    "## My Struggles"
   ]
  },
  {
   "cell_type": "markdown",
   "id": "b8e52816-9a92-4a20-832b-6df362f4fcab",
   "metadata": {},
   "source": [
    "At the beginning of 2025, I lost my job of 4.5 years at American Express. "
   ]
  }
 ],
 "metadata": {
  "kernelspec": {
   "display_name": "Python 3 (ipykernel)",
   "language": "python",
   "name": "python3"
  },
  "language_info": {
   "codemirror_mode": {
    "name": "ipython",
    "version": 3
   },
   "file_extension": ".py",
   "mimetype": "text/x-python",
   "name": "python",
   "nbconvert_exporter": "python",
   "pygments_lexer": "ipython3",
   "version": "3.13.1"
  }
 },
 "nbformat": 4,
 "nbformat_minor": 5
}
