{
 "cells": [
  {
   "cell_type": "code",
   "execution_count": 1,
   "id": "83932f7c-4eee-40a4-a622-60fae0be57cc",
   "metadata": {},
   "outputs": [],
   "source": [
    "title = 'Feature Test'\n",
    "author = 'yash101'\n",
    "published = '2025-01-30T04:57:57.694Z'\n",
    "lastModified = '2025-01-30T04:57:57.694Z'\n",
    "slug = 'feature-test'"
   ]
  },
  {
   "cell_type": "markdown",
   "id": "80600f0f-0e13-4bf4-a85d-21b361984e56",
   "metadata": {},
   "source": [
    "# Markdown support?\n",
    "\n",
    "Is this section being rendered correctly?"
   ]
  },
  {
   "cell_type": "markdown",
   "id": "6f56c371-3c5d-4ae1-b6cb-6a8b612d3bdf",
   "metadata": {},
   "source": [
    "## Code support?\n",
    "\n",
    "Is the code below being supported correctly?"
   ]
  },
  {
   "cell_type": "code",
   "execution_count": 2,
   "id": "b054177a-fdd1-4eeb-b3d0-7750e998882c",
   "metadata": {},
   "outputs": [
    {
     "name": "stdout",
     "output_type": "stream",
     "text": [
      "Hello, 0\n",
      "Hello, 1\n",
      "Hello, 2\n",
      "Hello, 3\n",
      "Hello, 4\n"
     ]
    }
   ],
   "source": [
    "# Code block and output\n",
    "\n",
    "for i in range(5):\n",
    "    print(f'Hello, {i}')\n",
    "\n",
    "def hello_world():\n",
    "    print('hello world')"
   ]
  },
  {
   "cell_type": "code",
   "execution_count": 9,
   "id": "37e17f97-e4e6-4906-9ad0-c10190e461da",
   "metadata": {},
   "outputs": [
    {
     "name": "stdout",
     "output_type": "stream",
     "text": [
      "Hello, 0\n",
      "Hello, 2\n",
      "Hello, 4\n",
      "Hello, 6\n",
      "Hello, 8\n"
     ]
    },
    {
     "name": "stderr",
     "output_type": "stream",
     "text": [
      "Hello, 1\n",
      "Hello, 3\n",
      "Hello, 5\n",
      "Hello, 7\n",
      "Hello, 9\n"
     ]
    },
    {
     "ename": "AttributeError",
     "evalue": "'NoneType' object has no attribute 'length'",
     "output_type": "error",
     "traceback": [
      "\u001b[0;31m---------------------------------------------------------------------------\u001b[0m",
      "\u001b[0;31mAttributeError\u001b[0m                            Traceback (most recent call last)",
      "Cell \u001b[0;32mIn[9], line 12\u001b[0m\n\u001b[1;32m      9\u001b[0m         \u001b[38;5;28mprint\u001b[39m(\u001b[38;5;124mf\u001b[39m\u001b[38;5;124m'\u001b[39m\u001b[38;5;124mHello, \u001b[39m\u001b[38;5;132;01m{\u001b[39;00mi\u001b[38;5;132;01m}\u001b[39;00m\u001b[38;5;124m'\u001b[39m, file\u001b[38;5;241m=\u001b[39msys\u001b[38;5;241m.\u001b[39mstderr)\n\u001b[1;32m     11\u001b[0m string \u001b[38;5;241m=\u001b[39m \u001b[38;5;28;01mNone\u001b[39;00m\n\u001b[0;32m---> 12\u001b[0m \u001b[43mstring\u001b[49m\u001b[38;5;241;43m.\u001b[39;49m\u001b[43mlength\u001b[49m\n",
      "\u001b[0;31mAttributeError\u001b[0m: 'NoneType' object has no attribute 'length'"
     ]
    }
   ],
   "source": [
    "# Stdout, stderr and runtime error\n",
    "\n",
    "import sys\n",
    "\n",
    "for i in range(10):\n",
    "    if i % 2 == 0:\n",
    "        print(f'Hello, {i}')\n",
    "    else:\n",
    "        print(f'Hello, {i}', file=sys.stderr)\n",
    "\n",
    "string = None\n",
    "string.length"
   ]
  }
 ],
 "metadata": {
  "kernelspec": {
   "display_name": "Python 3 (ipykernel)",
   "language": "python",
   "name": "python3"
  },
  "language_info": {
   "codemirror_mode": {
    "name": "ipython",
    "version": 3
   },
   "file_extension": ".py",
   "mimetype": "text/x-python",
   "name": "python",
   "nbconvert_exporter": "python",
   "pygments_lexer": "ipython3",
   "version": "3.13.1"
  }
 },
 "nbformat": 4,
 "nbformat_minor": 5
}
