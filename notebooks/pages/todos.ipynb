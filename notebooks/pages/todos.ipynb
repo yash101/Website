{
 "cells": [
  {
   "cell_type": "code",
   "execution_count": 4,
   "id": "82db9920-c607-4ed9-8626-278493e04489",
   "metadata": {},
   "outputs": [],
   "source": [
    "title = 'TODOs to improve this blog platform'\n",
    "author = 'yash101'\n",
    "published = '2025-01-30T04:57:57.694Z'\n",
    "modified = '2025-01-30T04:57:57.694Z'\n",
    "slug = 'todos'"
   ]
  },
  {
   "cell_type": "markdown",
   "id": "4d29dc5c-7ac4-4100-a2c9-10db9b2bf9aa",
   "metadata": {},
   "source": [
    "TODOs on improving this blog."
   ]
  },
  {
   "cell_type": "markdown",
   "id": "5b4ec4f0-9db3-4757-aa39-52a78342cf73",
   "metadata": {},
   "source": [
    "## TODOs to improve this blog platform:\n",
    "\n",
    "* Add support for code blocks\n",
    "* Add support for MathJAX\n",
    "* Add support for code output\n",
    "* Add some components that can be added via raw blocks\n",
    "* Add sorting support\n",
    "* Add automatic rebuilds of notebooks on save (nextjs is already able to render updated notebooks with `next dev`.\n",
    "* Add hyperlinks to titles\n",
    "* Sync hyperlinks / headings with the navbar\n",
    "* Pagination of the homepage and blogs page\n",
    "* Multi-page pages and blogs\n",
    "* Better tooling for handling metadata. Plugin for Jupyter or Jupyterlab?\n",
    "* GitHub actions workflow"
   ]
  },
  {
   "cell_type": "markdown",
   "id": "f79b554d-3597-4921-8bc1-323ea80db152",
   "metadata": {},
   "source": []
  }
 ],
 "metadata": {
  "kernelspec": {
   "display_name": "Python 3 (ipykernel)",
   "language": "python",
   "name": "python3"
  },
  "language_info": {
   "codemirror_mode": {
    "name": "ipython",
    "version": 3
   },
   "file_extension": ".py",
   "mimetype": "text/x-python",
   "name": "python",
   "nbconvert_exporter": "python",
   "pygments_lexer": "ipython3",
   "version": "3.13.1"
  }
 },
 "nbformat": 4,
 "nbformat_minor": 5
}
