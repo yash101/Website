{
 "cells": [
  {
   "cell_type": "raw",
   "id": "5fbbbc95-8ba4-4c0a-ac9b-c99cde374b88",
   "metadata": {
    "vscode": {
     "languageId": "raw"
    }
   },
   "source": [
    "root = 'docs'\n",
    "name = 'feature-test'\n",
    "\n",
    "title = 'Feature Test'\n",
    "subtitle = 'Embeds'\n",
    "page = 4\n",
    "isPublished = true\n",
    "\n",
    "authors = 'yash101'\n",
    "\n",
    "publishedOn = '2025-01-30T04:57:57.694Z'\n",
    "lastModifiedOn = '2025-01-30T04:57:57.694Z'"
   ]
  },
  {
   "cell_type": "markdown",
   "id": "97c71bc8-077a-46ad-8f85-22683e4a6ed9",
   "metadata": {},
   "source": [
    "## How Embeds Work\n",
    "\n",
    "Embeds are `raw` Jupyter cells (cells with `cell_type === 'raw'`). The code can be in one of two formats:\n",
    "\n",
    "1. JSON\n",
    "2. A JavaScript closure which generates the same JSON from a JavaScript `Function(...)` invocation."
   ]
  },
  {
   "cell_type": "markdown",
   "id": "dc1c7d06-c6da-478e-83fd-a3a75ae8ff88",
   "metadata": {},
   "source": [
    "## Supported Embeds"
   ]
  },
  {
   "cell_type": "markdown",
   "id": "fe707422-f3b7-41f4-ab3d-9264b9b3e0ae",
   "metadata": {},
   "source": [
    "### Monaco Editor & Code Runner\n",
    "\n",
    "Code editor and runner for JavaScript tutorials.\n",
    "\n",
    "Code is run in a web worker on the browser, so no backend resources are necessary.\n",
    "\n",
    "**Props:**\n",
    "\n",
    "```json\n",
    "{\n",
    "  \"tool\": \"code\",\n",
    "  \"props\": {\n",
    "      \"sourceUrl\": \"<some sort of URL to fetch code from>\",\n",
    "      \"defaultSorce\": \"<source code to display (directly embed it here, not in another file\",\n",
    "      \"autorun\": true | false,\n",
    "      \"header\": false\n",
    "  }\n",
    "}\n",
    "```\n",
    "\n",
    "* `autorun`: Automatically run the script upon loading and construction?\n",
    "* `header`: show the default header for the code runner (I may remove this in the future because it's kind of stupid)\n",
    "* `sourceUrl` **OR** `defaultSource`: URL to the source code OR the source code to display\n",
    "\n",
    "**Raw Cell Code (as JS):**\n",
    "\n",
    "```javascript\n",
    "(() => {\n",
    "    return {\n",
    "        tool: 'code',\n",
    "        props: {\n",
    "            sourceUrl: '/assets/objects/feature-test/hello-world.js',\n",
    "            autorun: false,\n",
    "            header: false,\n",
    "        }\n",
    "    }\n",
    "})()\n",
    "```\n",
    "\n",
    "**TODO:** I need to create a second Monaco editor embed which just displays and allows for editing code without running it."
   ]
  },
  {
   "cell_type": "raw",
   "id": "047fbd12-e485-4b80-bcad-0e047b07b478",
   "metadata": {
    "vscode": {
     "languageId": "raw"
    }
   },
   "source": [
    "(() => {\n",
    "    return {\n",
    "        tool: 'code',\n",
    "        props: {\n",
    "            sourceUrl: '/assets/objects/bechamel-docs/feature-test/hello-world.js',\n",
    "            autorun: false,\n",
    "            header: false,\n",
    "        }\n",
    "    }\n",
    "})()"
   ]
  },
  {
   "cell_type": "markdown",
   "id": "4b8c056e-61b3-4082-a436-3e40b108c934",
   "metadata": {},
   "source": [
    "### Draw io"
   ]
  },
  {
   "cell_type": "markdown",
   "id": "f4e24fd6-2257-478b-9aa5-8a1534e28c9f",
   "metadata": {},
   "source": [
    "**Props:**\n",
    "\n",
    "```json\n",
    "{\n",
    "  \"tool\": \"drawio\",\n",
    "  \"props\": {\n",
    "      \"xmlUri\": \"/assets/objects/feature-test/test-diagram.drawio\",\n",
    "      \"height\": \"600px\",\n",
    "  }\n",
    "}\n",
    "```\n",
    "\n",
    "* `tool`: `drawio`\n",
    "* `xmlUri`: Path to the Draw.io file (to be feched)\n",
    "* `height`: height of the drawio view. `600px` looks good, but it can be any valid CSS height.\n",
    "\n",
    "**Raw Code Cell Example (JS):**\n",
    "```javascript\n",
    "(() => {\n",
    "    return {\n",
    "        tool: 'drawio',\n",
    "        props: {\n",
    "            xmlUri: '/assets/objects/feature-test/test-diagram.drawio',\n",
    "            height: '600px'\n",
    "        }\n",
    "    }\n",
    "})()\n",
    "```"
   ]
  },
  {
   "cell_type": "raw",
   "id": "e6a19d74-1de2-4b7e-afff-053847ef4fff",
   "metadata": {
    "vscode": {
     "languageId": "raw"
    }
   },
   "source": [
    "(() => {\n",
    "    return {\n",
    "        tool: 'drawio',\n",
    "        props: {\n",
    "            xmlUri: '/assets/objects/bechamel-docs/feature-test/test-diagram.drawio',\n",
    "            height: '600px'\n",
    "        }\n",
    "    }\n",
    "})()"
   ]
  },
  {
   "cell_type": "markdown",
   "id": "8ba755e0-b776-40de-b8d7-b18e4aeebfb9",
   "metadata": {},
   "source": [
    "### TODO:"
   ]
  },
  {
   "cell_type": "markdown",
   "id": "269cf726-75a6-4ee2-be7a-875520001c37",
   "metadata": {},
   "source": [
    "* Raw monaco editor, no code runner\n",
    "* Excalidraw (once it supports React 19)\n",
    "* Tldraw (once it supports React 19)"
   ]
  }
 ],
 "metadata": {
  "kernelspec": {
   "display_name": "Python 3 (ipykernel)",
   "language": "python",
   "name": "python3"
  },
  "language_info": {
   "codemirror_mode": {
    "name": "ipython",
    "version": 3
   },
   "file_extension": ".py",
   "mimetype": "text/x-python",
   "name": "python",
   "nbconvert_exporter": "python",
   "pygments_lexer": "ipython3",
   "version": "3.13.1"
  }
 },
 "nbformat": 4,
 "nbformat_minor": 5
}
