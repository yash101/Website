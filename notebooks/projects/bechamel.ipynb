{
 "cells": [
  {
   "cell_type": "raw",
   "id": "1b0cb78b-0cf8-4ba2-a599-5e424bcccf4d",
   "metadata": {},
   "source": [
    "root = 'projects'\n",
    "name = 'bechamel'\n",
    "page = 1\n",
    "title = 'Béchamel'\n",
    "subtitle = \"Powerful SSG Website Generator Using Jupyter Notebooks\"\n",
    "isPublished = true\n",
    "\n",
    "publishedOn = '2025-04-06T16:00:00.277Z'\n",
    "lastModifiedOn = '2025-04-06T16:00:00.277Z'\n",
    "authors = 'yash101'\n",
    "\n",
    "opengraph-image = '/assets/objects/projects/bechamel-opengraph.png'"
   ]
  },
  {
   "cell_type": "markdown",
   "id": "a6e83535-3ecd-4747-bebd-19a5d9dc8a8c",
   "metadata": {},
   "source": [
    "Creating a static website where you can just write content and forget about it is hard. Plenty of solutions, each has their own strenghts and weaknesses.\n",
    "\n",
    "Béchamel is my own SSG website generator, which I use for this website. It's built using Next.js, React, Tailwind and Jupyter notebooks. Write your content in your Jupyter notebooks and deploy to Cloudflare Pages or GitHub pages for inexpensive or free hosting!\n",
    "\n",
    "I built Bechamel because I wanted to write content in Jupyter notebooks since it works really well for taking notes and mixing in code and experiments. I tried other SSG systems such as Jupyter Book, but these are more geared to documentation than a blog or personal website.\n",
    "\n",
    "\n",
    "* Docs URL: **[Docs](/docs)**\n",
    "* GitHub URL: **[GitHub](https://github.com/yash101/Bechamel)**"
   ]
  },
  {
   "cell_type": "markdown",
   "id": "c32dc8af-a644-4389-90b5-3b9225c72194",
   "metadata": {},
   "source": [
    "## Béchamel\n",
    "\n",
    "Creating a static website where you can just write content and forget about it is hard. Plenty of solutions, each has their own strenghts and weaknesses.\n",
    "\n",
    "Bechamel is my own SSG website generator, which I use for this website. It's built using Next.js, React, Tailwind and Jupyter notebooks. Write your content in your Jupyter notebooks and deploy to Cloudflare Pages or GitHub pages for inexpensive or free hosting!\n",
    "\n",
    "I built Bechamel because I wanted to write content in Jupyter notebooks since it works really well for taking notes and mixing in code and experiments. I tried other SSG systems such as Jupyter Book, but these are more geared to documentation than a blog or personal website."
   ]
  },
  {
   "cell_type": "markdown",
   "id": "dbb84b81-f6b2-4604-8955-c5841c86c273",
   "metadata": {},
   "source": [
    "## Tech Stack\n",
    "\n",
    "This SSG system is built on the following components:\n",
    "\n",
    "### Next.js\n",
    "\n",
    "Next.js is a powerful batteries-included react-based web framework which makes it easy to build high quality websites and SPAs.\n",
    "\n",
    "I used Next.js in this project due to the following benefits:\n",
    "\n",
    "* Built on React (benefits below)\n",
    "* Implements build-time static rendering of content\n",
    "* Splits pre-renderable content and dynamically-renderable content so your content loads before the JavaScript does\n",
    "* Code-splits JavaScript so only the JS required on a page is downloaded\n",
    "* Handles routing\n",
    "* Provides sensible defaults (Tailwind, TypeScript)\n",
    "* Implements React Server Components as a default\n",
    "\n",
    "### TypeScript\n",
    "\n",
    "Almost all of the code is written in TypeScript due to the following benefits:\n",
    "\n",
    "* Strict typing helps determine mistakes even in the IDE (using the wrong object or improperly initializing an object)\n",
    "* Types act as contracts on how functions should interact with each other\n",
    "* Forces me to normalize and check all data\n",
    "\n",
    "### React\n",
    "\n",
    "* Used to render the website\n",
    "* The complexity of the React codebase scales logarithmically compared to the number of features I add\n",
    "* I wanted to learn it :joy:\n",
    "* Dynamic content is easy to develop and keep isolated in its own shell\n",
    "\n",
    "### Tailwind CSS\n",
    "\n",
    "* Almost all styling is done using Tailwind CSS to reduce the CSS load\n",
    "* Easy to make changes to the UI since the properties are in front of you always\n",
    "\n",
    "### ShadCN\n",
    "\n",
    "* Lots of components from ShadCN were used in this project.\n",
    "* Reduces boilerplate\n",
    "* Implements simple functionalities used everywhere\n",
    "* Components are locally implemented in the repo leading to easy styling and modification to your styling.\n",
    "\n",
    "### Jupyter Notebooks\n",
    "\n",
    "* My go-to choice for writing notes, thoughts and documents\n",
    "* Jupyter IDEs are really good\n",
    "* Supports Markdown and code\n",
    "* Directly embed images (and possibly other multimedia) directly into the notebook cells as attachments\n",
    "* Easy to share notebooks since they are self-contained normally"
   ]
  },
  {
   "cell_type": "markdown",
   "id": "79a4ef1b-2919-4a2a-8c21-e9e888de46dc",
   "metadata": {},
   "source": [
    "## Links\n",
    "\n",
    "* [Docs](/docs)\n",
    "* [GitHub](https://github.com/yash101/Bechamel)"
   ]
  }
 ],
 "metadata": {
  "kernelspec": {
   "display_name": "Python 3 (ipykernel)",
   "language": "python",
   "name": "python3"
  },
  "language_info": {
   "codemirror_mode": {
    "name": "ipython",
    "version": 3
   },
   "file_extension": ".py",
   "mimetype": "text/x-python",
   "name": "python",
   "nbconvert_exporter": "python",
   "pygments_lexer": "ipython3",
   "version": "3.13.1"
  }
 },
 "nbformat": 4,
 "nbformat_minor": 5
}
