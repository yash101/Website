{
 "cells": [
  {
   "cell_type": "raw",
   "id": "9e925884-d5ad-4fab-91bb-0513b1083124",
   "metadata": {},
   "source": [
    "root = 'projects'\n",
    "name = 'schwab-api-tool'\n",
    "page = 1\n",
    "title = 'Schwab API Tool'\n",
    "subtitle = \"Tool to help authenticate with Schwab's APIs\"\n",
    "isPublished = true\n",
    "\n",
    "publishedOn = '2025-04-07T16:00:00.277Z'\n",
    "lastModifiedOn = '2025-04-07T16:00:00.277Z'\n",
    "authors = 'yash101'\n",
    "\n",
    "opengraph-image = '/objects/dksjhgsldfkjghkl4352kjh.png'"
   ]
  },
  {
   "cell_type": "markdown",
   "id": "fbcce0c7-747a-4281-ae53-c727513499ce",
   "metadata": {},
   "source": [
    "Schwab's API is hard to use because it requires OAuth to authorize and connect your account. Plus, CAG (consent-authorization-grant) must be completed every 7 days. No bueno!\n",
    "\n",
    "This project is an easy-to-use tool to authenticate and authorize with Schwab's APIs. It's a landing page you can use as your redirect URI, hosted on Cloudflare Pages which gets you through the auth process and provides you your authorization code.\n",
    "\n",
    "* **Link to Project**: [link here](/tools/schwab-auth)\n",
    "* **Status**: in production\n",
    "* **GitHub**: [link here](https://github.com/yash101/Website/blob/master/src/app/tools/schwab-auth/page.tsx)"
   ]
  },
  {
   "attachments": {},
   "cell_type": "markdown",
   "id": "0bf97ab0-5bb1-40e2-a20a-77603f347cf2",
   "metadata": {},
   "source": [
    "Schwab's API is hard to use because it requires OAuth to authorize and connect your account. Plus, CAG (consent-authorization-grant) must be completed every 7 days. No bueno!\n",
    "\n",
    "This project is an easy-to-use tool to authenticate and authorize with Schwab's APIs. It's a landing page you can use as your redirect URI, hosted on Cloudflare Pages which gets you through the auth process and provides you your authorization code.\n",
    "\n",
    "* **Link to Project**: [link here](/tools/schwab-auth)\n",
    "* **Status**: in production\n",
    "* **GitHub**: [link here](https://github.com/yash101/Website/blob/master/src/app/tools/schwab-auth/page.tsx)"
   ]
  },
  {
   "cell_type": "markdown",
   "id": "37db8ab8-6377-473c-bdc0-c1bbb8c21a79",
   "metadata": {},
   "source": [
    "Technical notes:\n",
    "\n",
    "* this page is 100% client-side, prerendered as static HTML and has no backend\n",
    "* JavaScript is required for the buttons to work\n",
    "* Schwab authorization code tokens can only be used once\n",
    "* This is instance is hosted on Cloudflare Pages"
   ]
  },
  {
   "cell_type": "markdown",
   "id": "09d9cf18-0c77-4a99-b6e8-01e4c9871434",
   "metadata": {},
   "source": [
    "## Usage in a Next.js or React Project\n",
    "\n",
    "To use this auth tool in your next.js project, just copy the `page.tsx` from the GitHub link into your project.\n",
    "\n",
    "Some dependencies may need updating:\n",
    "\n",
    "* Shadcn components (`Button`, `Separator`). You can turn it into a `button` though extra styling may be necessary\n",
    "* Tailwind styles (you may need to replace these with a stylesheet or inline styles)\n",
    "* Lucide, for icons (`Clipboard`)\n",
    "\n",
    "To use this in a react project, you can copy the contents of `page.tsx` into a component file and use it as `<SchwabAuthPage />`, no arguments or anything."
   ]
  },
  {
   "cell_type": "markdown",
   "id": "cefa59f1-dc84-4d6c-a10c-dd249c8477a3",
   "metadata": {},
   "source": [
    "## Features **NOT** Planned\n",
    "\n",
    "* Get initial refresh and access tokens.\n",
    "  I'm not planning on building that here since that requires the app secret too, enough information to gain access to your account for a week.\n",
    "\n",
    "  Consult your API docs on how to get the refresh and access tokens.\n",
    "\n",
    "  I may create a different page which gets a refresh and access token given an authorization code."
   ]
  }
 ],
 "metadata": {
  "kernelspec": {
   "display_name": "Python 3 (ipykernel)",
   "language": "python",
   "name": "python3"
  },
  "language_info": {
   "codemirror_mode": {
    "name": "ipython",
    "version": 3
   },
   "file_extension": ".py",
   "mimetype": "text/x-python",
   "name": "python",
   "nbconvert_exporter": "python",
   "pygments_lexer": "ipython3",
   "version": "3.13.1"
  }
 },
 "nbformat": 4,
 "nbformat_minor": 5
}
