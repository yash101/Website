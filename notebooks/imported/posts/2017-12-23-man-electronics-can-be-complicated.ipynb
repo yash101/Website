{
 "cells": [
  {
   "cell_type": "raw",
   "id": "1033b65f",
   "metadata": {},
   "source": [
    "{\n",
    "  \"root\": \"imported\",\n",
    "  \"name\": \"man-electronics-can-be-complicated\",\n",
    "  \"page\": 1,\n",
    "  \"title\": \"I'm Designing an EEG!\",\n",
    "  \"subtitle\": \"I'm Designing an EEG!\",\n",
    "  \"isPublished\": false,\n",
    "  \"author\": \"yash101\",\n",
    "  \"lastModifiedOn\": \"2017-12-23T07:22:42\",\n",
    "  \"publishedOn\": \"2017-12-23T07:22:42\",\n",
    "  \"categories\": [\n",
    "    \"Uncategorized\"\n",
    "  ]\n",
    "}"
   ]
  },
  {
   "attachments": {},
   "cell_type": "markdown",
   "id": "5ec09080",
   "metadata": {},
   "source": [
    "I'm designing an EEG from scratch as a prototype for a startup! It's a very\n",
    "ambitious project, as I am very rusty at electronics. My goal is to design a\n",
    "very simple, inexpensive, versatile, easy-to-use and self-contained device,"
   ]
  },
  {
   "attachments": {},
   "cell_type": "markdown",
   "id": "cb6bf1b4",
   "metadata": {},
   "source": [
    "I'm designing an EEG from scratch as a prototype for a startup! It's a very\n",
    "ambitious project, as I am very rusty at electronics. My goal is to design a\n",
    "very simple, inexpensive, versatile, easy-to-use and self-contained device,\n",
    "which confirms to medical standards (though FDA approval isn't a goal for this\n",
    "project). I cannot disclose the feature set of this device, or the problem\n",
    "this aims to solve. However, I will try my best to use this blog as a journal\n",
    "for the project. Since I can be classified as a \"noob\" in\n",
    "electronics/electrical engineering, this blog will be a great resource for\n",
    "those who are getting their feet wet in electronics. This blog is a tool for\n",
    "me to communicate what I learn, and what traps I run into while working on\n",
    "this project, and how to avoid them.\n"
   ]
  }
 ],
 "metadata": {
  "kernelspec": {
   "display_name": "",
   "name": ""
  },
  "language_info": {
   "name": ""
  }
 },
 "nbformat": 4,
 "nbformat_minor": 5
}
