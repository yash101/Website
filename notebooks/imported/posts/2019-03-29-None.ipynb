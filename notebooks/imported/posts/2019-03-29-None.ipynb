{
 "cells": [
  {
   "cell_type": "raw",
   "format": "json",
   "id": "e60e0e24",
   "metadata": {},
   "source": [
    "{\n",
    "  \"root\": \"imported\",\n",
    "  \"name\": \"dijkstras-shortest-path-algorithm\",\n",
    "  \"page\": 1,\n",
    "  \"title\": \"Dijkstra's Shortest Path Algorithm\",\n",
    "  \"subtitle\": \"Introduction\",\n",
    "  \"isPublished\": false,\n",
    "  \"author\": \"yash101\",\n",
    "  \"lastModifiedOn\": \"2019-03-29T04:44:22\",\n",
    "  \"publishedOn\": \"2019-03-29T04:44:22\",\n",
    "  \"categories\": [\n",
    "    \"Uncategorized\"\n",
    "  ]\n",
    "}"
   ]
  },
  {
   "attachments": {},
   "cell_type": "markdown",
   "id": "846a9599",
   "metadata": {},
   "source": [
    "**Dijkstra's Shortest Path Algorithm (SPA)** is an algorithm to find the\n",
    "shortest path between two nodes in a **graph**. It was invented by Edsger W.\n",
    "Dijkstra, the person after whom this algorithm is named after."
   ]
  },
  {
   "attachments": {},
   "cell_type": "markdown",
   "id": "b051867c",
   "metadata": {},
   "source": [
    "**Dijkstra's Shortest Path Algorithm (SPA)** is an algorithm to find the\n",
    "shortest path between two nodes in a **graph**. It was invented by Edsger W.\n",
    "Dijkstra, the person after whom this algorithm is named after.\n",
    "\n",
    "There are many different variations to the algorithm. The main one is to find\n",
    "the shortest path between two nodes, a source node and a destination node.\n",
    "Dijkstra's algorithm can also be used to find the shortest path between one\n",
    "node and all other nodes in a graph.\n",
    "\n",
    "Dijkstra's algorithm"
   ]
  }
 ],
 "metadata": {},
 "nbformat": 4,
 "nbformat_minor": 5
}
