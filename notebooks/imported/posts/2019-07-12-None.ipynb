{
 "cells": [
  {
   "cell_type": "raw",
   "format": "json",
   "id": "0e262103",
   "metadata": {},
   "source": [
    "{\n",
    "  \"root\": \"imported\",\n",
    "  \"name\": \"why-photos-suck---how-to-make-them-look-more-realistic\",\n",
    "  \"page\": 1,\n",
    "  \"title\": \"Why Photos Suck - How to Make Them Look More Realistic...\",\n",
    "  \"subtitle\": \"Why Photos Suck - How to Make Them Look More Realistic...\",\n",
    "  \"isPublished\": false,\n",
    "  \"author\": \"yash101\",\n",
    "  \"lastModifiedOn\": \"2019-07-12T08:35:58\",\n",
    "  \"publishedOn\": \"2019-07-12T08:35:58\",\n",
    "  \"categories\": [\n",
    "    \"Uncategorized\"\n",
    "  ]\n",
    "}"
   ]
  },
  {
   "attachments": {},
   "cell_type": "markdown",
   "id": "aeaf0165",
   "metadata": {},
   "source": []
  },
  {
   "attachments": {},
   "cell_type": "markdown",
   "id": "ec5cb247",
   "metadata": {},
   "source": [
    "\n"
   ]
  }
 ],
 "metadata": {},
 "nbformat": 4,
 "nbformat_minor": 5
}
