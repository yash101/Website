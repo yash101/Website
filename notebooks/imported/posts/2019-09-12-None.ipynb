{
 "cells": [
  {
   "cell_type": "raw",
   "format": "json",
   "id": "58dc30dd",
   "metadata": {},
   "source": [
    "{\n",
    "  \"root\": \"imported\",\n",
    "  \"name\": \"introduction-to-github-classroom\",\n",
    "  \"page\": 1,\n",
    "  \"title\": \"Introduction to GitHub Classroom\",\n",
    "  \"subtitle\": \"Introduction to GitHub Classroom\",\n",
    "  \"isPublished\": false,\n",
    "  \"author\": \"yash101\",\n",
    "  \"lastModifiedOn\": \"2019-09-12T16:29:42\",\n",
    "  \"publishedOn\": \"2019-09-12T16:29:42\",\n",
    "  \"categories\": [\n",
    "    \"Uncategorized\"\n",
    "  ]\n",
    "}"
   ]
  },
  {
   "attachments": {},
   "cell_type": "markdown",
   "id": "9850ba18",
   "metadata": {},
   "source": [
    "GitHub classroom is"
   ]
  },
  {
   "attachments": {},
   "cell_type": "markdown",
   "id": "570dc019",
   "metadata": {},
   "source": [
    "GitHub classroom is\n"
   ]
  }
 ],
 "metadata": {},
 "nbformat": 4,
 "nbformat_minor": 5
}
