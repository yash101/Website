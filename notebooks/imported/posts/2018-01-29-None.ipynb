{
 "cells": [
  {
   "cell_type": "raw",
   "format": "json",
   "id": "ff846266",
   "metadata": {},
   "source": [
    "{\n",
    "  \"root\": \"imported\",\n",
    "  \"name\": \"over-the-road-solar-panels\",\n",
    "  \"page\": 1,\n",
    "  \"title\": \"Over-the-Road Solar Panels\",\n",
    "  \"subtitle\": \"Introduction\",\n",
    "  \"isPublished\": false,\n",
    "  \"author\": \"yash101\",\n",
    "  \"lastModifiedOn\": \"2018-01-29T23:13:21\",\n",
    "  \"publishedOn\": \"2018-01-29T23:13:21\",\n",
    "  \"categories\": [\n",
    "    \"Uncategorized\"\n",
    "  ]\n",
    "}"
   ]
  },
  {
   "attachments": {},
   "cell_type": "markdown",
   "id": "62da91ea",
   "metadata": {},
   "source": [
    "So much land is in use by our road infrastructure. How can we use it to serve\n",
    "even more purposes? This is why I propose Over-the-Road Solar Panels."
   ]
  },
  {
   "attachments": {},
   "cell_type": "markdown",
   "id": "377bf8cb",
   "metadata": {},
   "source": [
    "So much land is in use by our road infrastructure. How can we use it to serve\n",
    "even more purposes? This is why I propose Over-the-Road Solar Panels.\n"
   ]
  }
 ],
 "metadata": {},
 "nbformat": 4,
 "nbformat_minor": 5
}
