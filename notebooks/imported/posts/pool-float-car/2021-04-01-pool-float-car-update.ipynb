{
 "cells": [
  {
   "cell_type": "raw",
   "id": "377d7320",
   "metadata": {},
   "source": [
    "{\n",
    "  \"root\": \"imported\",\n",
    "  \"name\": \"pool-float-car\",\n",
    "  \"page\": 2,\n",
    "  \"title\": \"Pool Float Car\",\n",
    "  \"subtitle\": \"Update\",\n",
    "  \"isPublished\": false,\n",
    "  \"author\": \"yash101\",\n",
    "  \"lastModifiedOn\": \"2021-04-01T21:52:49\",\n",
    "  \"publishedOn\": \"2021-04-01T21:52:49\",\n",
    "  \"categories\": [\n",
    "    \"Uncategorized\"\n",
    "  ]\n",
    "}"
   ]
  },
  {
   "attachments": {},
   "cell_type": "markdown",
   "id": "a2d53e33",
   "metadata": {},
   "source": [
    "Enjoy a video about the pool float car...\n",
    "\n",
    "<iframe width=\"560\" height=\"315\" src=\"https://www.youtube-nocookie.com/embed/dQw4w9WgXcQ?si=L0RMP0wuVGnX9Ysm&amp;controls=0\" title=\"YouTube video player\" frameborder=\"0\" allow=\"accelerometer; autoplay; clipboard-write; encrypted-media; gyroscope; picture-in-picture; web-share\" referrerpolicy=\"strict-origin-when-cross-origin\" allowfullscreen></iframe>"
   ]
  }
 ],
 "metadata": {
  "kernelspec": {
   "display_name": "",
   "name": ""
  },
  "language_info": {
   "name": ""
  }
 },
 "nbformat": 4,
 "nbformat_minor": 5
}
