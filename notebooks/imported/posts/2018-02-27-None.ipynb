{
 "cells": [
  {
   "cell_type": "raw",
   "format": "json",
   "id": "f32785d8",
   "metadata": {},
   "source": [
    "{\n",
    "  \"root\": \"imported\",\n",
    "  \"name\": \"artificial-finger---update-1\",\n",
    "  \"page\": 1,\n",
    "  \"title\": \"Artificial Finger - Update 1\",\n",
    "  \"subtitle\": \"Artificial Finger - Update 1\",\n",
    "  \"isPublished\": false,\n",
    "  \"author\": \"yash101\",\n",
    "  \"lastModifiedOn\": \"2018-02-27T19:14:40\",\n",
    "  \"publishedOn\": \"2018-02-27T19:14:40\",\n",
    "  \"categories\": [\n",
    "    \"Uncategorized\"\n",
    "  ]\n",
    "}"
   ]
  },
  {
   "attachments": {},
   "cell_type": "markdown",
   "id": "b3bac7af",
   "metadata": {},
   "source": [
    "The artificial finger is starting to come together."
   ]
  },
  {
   "attachments": {},
   "cell_type": "markdown",
   "id": "995f00b1",
   "metadata": {},
   "source": [
    "The artificial finger is starting to come together.\n"
   ]
  }
 ],
 "metadata": {},
 "nbformat": 4,
 "nbformat_minor": 5
}
