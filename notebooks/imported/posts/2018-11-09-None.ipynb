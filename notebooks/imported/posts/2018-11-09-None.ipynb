{
 "cells": [
  {
   "cell_type": "raw",
   "format": "json",
   "id": "c41a6b4a",
   "metadata": {},
   "source": [
    "{\n",
    "  \"root\": \"imported\",\n",
    "  \"name\": \"introduction-to-kicad\",\n",
    "  \"page\": 1,\n",
    "  \"title\": \"Introduction to KiCAD\",\n",
    "  \"subtitle\": \"What is KiCAD?\",\n",
    "  \"isPublished\": false,\n",
    "  \"author\": \"yash101\",\n",
    "  \"lastModifiedOn\": \"2018-11-09T20:20:36\",\n",
    "  \"publishedOn\": \"2018-11-09T20:20:36\",\n",
    "  \"categories\": [\n",
    "    \"Uncategorized\"\n",
    "  ]\n",
    "}"
   ]
  },
  {
   "attachments": {},
   "cell_type": "markdown",
   "id": "2f30518f",
   "metadata": {},
   "source": [
    "Do you have an electronics project in mind? KiCAD may be an integral design\n",
    "tool for you! It makes it easy to lay out schematics, design PCBs, and prepare\n",
    "your idea for production in small to large quantities!"
   ]
  },
  {
   "attachments": {},
   "cell_type": "markdown",
   "id": "92050863",
   "metadata": {},
   "source": [
    "Do you have an electronics project in mind? KiCAD may be an integral design\n",
    "tool for you! It makes it easy to lay out schematics, design PCBs, and prepare\n",
    "your idea for production in small to large quantities!\n",
    "\n",
    "This tutorial is for everyone, from beginners in electronics, to industry\n",
    "experts who are looking to learn a new and powerful tool!\n",
    "\n",
    "KiCAD is a powerful **EDA (Electronics design automation)** tool. EDA, also\n",
    "known as **ECAD** , are software tools used to design electronics. It supports\n",
    "**schematic capture** , **PCB design** , and **gerber file** manipulation."
   ]
  }
 ],
 "metadata": {},
 "nbformat": 4,
 "nbformat_minor": 5
}
