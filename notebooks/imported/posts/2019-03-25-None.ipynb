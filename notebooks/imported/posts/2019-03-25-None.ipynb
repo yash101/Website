{
 "cells": [
  {
   "cell_type": "raw",
   "format": "json",
   "id": "0d5191f4",
   "metadata": {},
   "source": [
    "{\n",
    "  \"root\": \"imported\",\n",
    "  \"name\": \"teaching-c-the-proper-way\",\n",
    "  \"page\": 1,\n",
    "  \"title\": \"Teaching C++ the Proper Way\",\n",
    "  \"subtitle\": \"The Issue\",\n",
    "  \"isPublished\": false,\n",
    "  \"author\": \"yash101\",\n",
    "  \"lastModifiedOn\": \"2019-03-25T04:21:09\",\n",
    "  \"publishedOn\": \"2019-03-25T04:21:09\",\n",
    "  \"categories\": [\n",
    "    \"Uncategorized\"\n",
    "  ]\n",
    "}"
   ]
  },
  {
   "attachments": {},
   "cell_type": "markdown",
   "id": "022fd447",
   "metadata": {},
   "source": [
    "I study computer science at Arizona State University. After CSE 205 - Object\n",
    "Oriented Programming, almost every course you take will require projects\n",
    "written in C++."
   ]
  },
  {
   "attachments": {},
   "cell_type": "markdown",
   "id": "34f75247",
   "metadata": {},
   "source": [
    "I study computer science at Arizona State University. After CSE 205 - Object\n",
    "Oriented Programming, almost every course you take will require projects\n",
    "written in C++.\n",
    "\n",
    "One thing that I have learned is that the bulk of the computer science classes\n",
    "do not prepare you for"
   ]
  }
 ],
 "metadata": {},
 "nbformat": 4,
 "nbformat_minor": 5
}
