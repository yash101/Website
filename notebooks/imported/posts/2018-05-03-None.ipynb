{
 "cells": [
  {
   "cell_type": "raw",
   "format": "json",
   "id": "a681d2e2",
   "metadata": {},
   "source": [
    "{\n",
    "  \"root\": \"imported\",\n",
    "  \"name\": \"computer-science-in-college---it-really-does-suck\",\n",
    "  \"page\": 1,\n",
    "  \"title\": \"Computer Science in College - It Really Does Suck!\",\n",
    "  \"subtitle\": \"Computer Science in College - It Really Does Suck!\",\n",
    "  \"isPublished\": false,\n",
    "  \"author\": \"yash101\",\n",
    "  \"lastModifiedOn\": \"2018-05-03T21:18:19\",\n",
    "  \"publishedOn\": \"2018-05-03T21:18:19\",\n",
    "  \"categories\": [\n",
    "    \"Uncategorized\"\n",
    "  ]\n",
    "}"
   ]
  },
  {
   "attachments": {},
   "cell_type": "markdown",
   "id": "6d4f394b",
   "metadata": {},
   "source": [
    "I'm a student at Arizona State University and it's laughable how well CIDSE\n",
    "manages to fail at teaching. You begin school, taking classes such as CSE 110\n",
    "and CSE 205. For these classes, if you know how to program, your best bet to"
   ]
  },
  {
   "attachments": {},
   "cell_type": "markdown",
   "id": "1adf2325",
   "metadata": {},
   "source": [
    "I'm a student at Arizona State University and it's laughable how well CIDSE\n",
    "manages to fail at teaching. You begin school, taking classes such as CSE 110\n",
    "and CSE 205. For these classes, if you know how to program, your best bet to\n",
    "do well in class is to skip class, show up for the quizzes/exams, and do the\n",
    "homework.\n"
   ]
  }
 ],
 "metadata": {},
 "nbformat": 4,
 "nbformat_minor": 5
}
