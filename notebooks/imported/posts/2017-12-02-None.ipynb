{
 "cells": [
  {
   "cell_type": "raw",
   "format": "json",
   "id": "26d8c819",
   "metadata": {},
   "source": [
    "{\n",
    "  \"root\": \"imported\",\n",
    "  \"name\": \"my-initial-thoughts-on-the-esp32\",\n",
    "  \"page\": 1,\n",
    "  \"title\": \"My Initial Thoughts on the ESP32\",\n",
    "  \"subtitle\": \"My Initial Thoughts on the ESP32\",\n",
    "  \"isPublished\": false,\n",
    "  \"author\": \"yash101\",\n",
    "  \"lastModifiedOn\": \"2017-12-02T22:17:59\",\n",
    "  \"publishedOn\": \"2017-12-02T22:17:59\",\n",
    "  \"categories\": [\n",
    "    \"Uncategorized\"\n",
    "  ]\n",
    "}"
   ]
  },
  {
   "attachments": {},
   "cell_type": "markdown",
   "id": "80773805",
   "metadata": {},
   "source": [
    "The ESP32 is an inexpensive WiFi and Bluetooth enabled microcontroller."
   ]
  },
  {
   "attachments": {},
   "cell_type": "markdown",
   "id": "2128526c",
   "metadata": {},
   "source": [
    "The ESP32 is an inexpensive WiFi and Bluetooth enabled microcontroller.\n"
   ]
  }
 ],
 "metadata": {},
 "nbformat": 4,
 "nbformat_minor": 5
}
