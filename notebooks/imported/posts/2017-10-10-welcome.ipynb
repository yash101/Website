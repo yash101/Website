{
 "cells": [
  {
   "cell_type": "raw",
   "id": "62749aa4",
   "metadata": {},
   "source": [
    "{\n",
    "  \"root\": \"imported\",\n",
    "  \"name\": \"welcome\",\n",
    "  \"page\": 1,\n",
    "  \"title\": \"Welcome!\",\n",
    "  \"subtitle\": \"Welcome!\",\n",
    "  \"isPublished\": true,\n",
    "  \"author\": \"yash101\",\n",
    "  \"lastModifiedOn\": \"2017-10-10T02:27:02\",\n",
    "  \"publishedOn\": \"2017-10-10T02:27:02\",\n",
    "  \"categories\": [\n",
    "    \"Uncategorized\"\n",
    "  ]\n",
    "}"
   ]
  },
  {
   "attachments": {},
   "cell_type": "markdown",
   "id": "4e14ef5d",
   "metadata": {},
   "source": [
    "This is my new blog. It will allow me to have conversations on what I am\n",
    "currently working on, create tutorials on cool stuff and share ideas!"
   ]
  },
  {
   "attachments": {},
   "cell_type": "markdown",
   "id": "7fd23fa5",
   "metadata": {},
   "source": [
    "This is my new blog. It will allow me to have conversations on what I am\n",
    "currently working on, create tutorials on cool stuff and share ideas!\n"
   ]
  }
 ],
 "metadata": {
  "kernelspec": {
   "display_name": "",
   "name": ""
  },
  "language_info": {
   "name": ""
  }
 },
 "nbformat": 4,
 "nbformat_minor": 5
}
