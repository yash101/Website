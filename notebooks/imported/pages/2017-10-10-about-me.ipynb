{
 "cells": [
  {
   "cell_type": "raw",
   "id": "d538362a",
   "metadata": {},
   "source": [
    "{\n",
    "  \"root\": \"imported\",\n",
    "  \"name\": \"about-me-archived\",\n",
    "  \"page\": 1,\n",
    "  \"title\": \"About Me\",\n",
    "  \"subtitle\": \"Hello!\",\n",
    "  \"isPublished\": true,\n",
    "  \"author\": \"yash101\",\n",
    "  \"lastModifiedOn\": \"2017-10-10T02:23:01\",\n",
    "  \"publishedOn\": \"2017-10-10T02:23:01\"\n",
    "}"
   ]
  },
  {
   "attachments": {},
   "cell_type": "markdown",
   "id": "2db46b7d",
   "metadata": {},
   "source": [
    "I'm Devyash, a junior studying computer science at Arizona State University.\n",
    "I'm an extroverted nerd, an electronics junkie, and a computer scientist. I\n",
    "enjoy working on large, difficult projects, although, it is quite rare that I"
   ]
  },
  {
   "attachments": {},
   "cell_type": "markdown",
   "id": "03e4758f",
   "metadata": {},
   "source": [
    "I'm Devyash, a junior studying computer science at Arizona State University.\n",
    "I'm an extroverted nerd, an electronics junkie, and a computer scientist. I\n",
    "enjoy working on large, difficult projects, although, it is quite rare that I\n",
    "finish them. My philosophy is that the best way to learn something is through\n",
    "intermixing practical application and the theory and mathematics. My goal for\n",
    "this blog is to explain projects I am working on, and create guides for things\n",
    "that I find difficult. If you'd like to get in touch with me, connect with me\n",
    "on [LinkedIn](https://www.linkedin.com/in/yash101)! I post most of my projects\n",
    "on [GitHub](https://github.com/yash101), so feel free to check it out and\n",
    "follow me if you're interested!"
   ]
  }
 ],
 "metadata": {
  "kernelspec": {
   "display_name": "Python 3 (ipykernel)",
   "language": "python",
   "name": "python3"
  },
  "language_info": {
   "codemirror_mode": {
    "name": "ipython",
    "version": 3
   },
   "file_extension": ".py",
   "mimetype": "text/x-python",
   "name": "python",
   "nbconvert_exporter": "python",
   "pygments_lexer": "ipython3",
   "version": "3.13.1"
  }
 },
 "nbformat": 4,
 "nbformat_minor": 5
}
