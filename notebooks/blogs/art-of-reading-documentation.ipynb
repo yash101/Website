{
 "cells": [
  {
   "cell_type": "code",
   "execution_count": 1,
   "id": "7c3413e3-ecb3-4ac5-8f93-1a7216ff50a3",
   "metadata": {},
   "outputs": [],
   "source": [
    "author = 'Devyash Lodha'\n",
    "title = 'The Art of Reading Docs'\n",
    "lastModified = '2025-01-29T20:56:17.277Z'\n",
    "published = '2050-01-29T20:56:17.277Z'"
   ]
  },
  {
   "cell_type": "markdown",
   "id": "f99d3d00-a014-4925-ba09-ce1e445de368",
   "metadata": {},
   "source": [
    "How do you read docs? I have no clue.\n",
    "\n",
    "Read my two-step approach to reading docs."
   ]
  },
  {
   "cell_type": "markdown",
   "id": "7f670546-106d-4af7-a593-281b361830df",
   "metadata": {},
   "source": [
    "## The approach\n",
    "\n",
    "Step 1: Cry.\n",
    "\n",
    "Step 2: wait, I never finished step 1."
   ]
  }
 ],
 "metadata": {
  "kernelspec": {
   "display_name": "Python 3 (ipykernel)",
   "language": "python",
   "name": "python3"
  },
  "language_info": {
   "codemirror_mode": {
    "name": "ipython",
    "version": 3
   },
   "file_extension": ".py",
   "mimetype": "text/x-python",
   "name": "python",
   "nbconvert_exporter": "python",
   "pygments_lexer": "ipython3",
   "version": "3.13.1"
  }
 },
 "nbformat": 4,
 "nbformat_minor": 5
}
