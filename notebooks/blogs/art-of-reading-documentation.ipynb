{
 "cells": [
  {
   "cell_type": "raw",
   "id": "a14c4a88-703c-48af-840d-0d80f32a0d20",
   "metadata": {},
   "source": [
    "root = 'blog'\n",
    "name = 'art-of-reading-documentation'\n",
    "page = 1\n",
    "title = 'The Art of Reading Docs'\n",
    "subtitle = 'How to read docs? Learn from my two-step approach'\n",
    "isPublished = true\n",
    "lastModifiedOn = '2025-01-29T20:56:17.277Z'\n",
    "publishedOn = '2050-01-29T20:56:17.277Z'\n",
    "author = 'yash101'"
   ]
  },
  {
   "cell_type": "markdown",
   "id": "f99d3d00-a014-4925-ba09-ce1e445de368",
   "metadata": {},
   "source": [
    "How do you read docs? I have no clue.\n",
    "\n",
    "Read my two-step approach to reading docs."
   ]
  },
  {
   "cell_type": "markdown",
   "id": "7f670546-106d-4af7-a593-281b361830df",
   "metadata": {},
   "source": [
    "## The approach\n",
    "\n",
    "Step 1: Cry.\n",
    "\n",
    "Step 2: wait, I never finished step 1."
   ]
  }
 ],
 "metadata": {
  "kernelspec": {
   "display_name": "Python 3 (ipykernel)",
   "language": "python",
   "name": "python3"
  },
  "language_info": {
   "codemirror_mode": {
    "name": "ipython",
    "version": 3
   },
   "file_extension": ".py",
   "mimetype": "text/x-python",
   "name": "python",
   "nbconvert_exporter": "python",
   "pygments_lexer": "ipython3",
   "version": "3.13.1"
  }
 },
 "nbformat": 4,
 "nbformat_minor": 5
}
