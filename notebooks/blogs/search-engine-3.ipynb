{
 "cells": [
  {
   "cell_type": "code",
   "execution_count": 2,
   "id": "32dc3a27-795a-4814-8fad-cd1425278f0b",
   "metadata": {},
   "outputs": [],
   "source": [
    "author = 'Devyash Lodha'\n",
    "title = 'Building a Search Engine - Part 3'\n",
    "lastModified = '2025-01-29T20:56:17.277Z'\n",
    "published = '2030-01-29T20:56:17.277Z'"
   ]
  },
  {
   "cell_type": "markdown",
   "id": "72d4ee0d-905b-48d1-a8fa-473bfa885cc1",
   "metadata": {},
   "source": [
    "Search engine, Part 3. In this part of my blog series on how to build a search engine, we will dive deeper into optimizing our reverse index to make it easier to store and more practical to use."
   ]
  },
  {
   "cell_type": "markdown",
   "id": "629ffbf2-591f-4c4d-bc1f-707ea55071f8",
   "metadata": {},
   "source": [
    "Placeholder text"
   ]
  },
  {
   "cell_type": "markdown",
   "id": "ea276a07-5d12-4be9-9e34-dbfc2bd5a2d6",
   "metadata": {},
   "source": [
    "## Reverse Index Optimization | Can we do Better?\n",
    "\n",
    "Reverse indexes are sort of the perfect search engine. They know everything and if a word exists in a document somewhere, the reverse index will have it. But the problem is that they don't scale! A reverse index may become untenable once holding a couple thousand documents. So how can we optimize a reverse index and shrink it?\n"
   ]
  },
  {
   "cell_type": "markdown",
   "id": "1981d597-b574-456a-9040-5e7512740e1e",
   "metadata": {},
   "source": [
    "### Not all Words are Equal\n",
    "\n",
    "If we take a look at the inverse index created by our naive approach, we see that there is a lot of junk and useless words.\n",
    "\n",
    "Moreover, in most languages such as English, we use lots of words which add little meaning. Just in the last sentence, think abuot what value the following words add: { moreover, in, most, such, as, we, use, lots, of }. What can we do to prune our reverse index and only store what matters?\n",
    "\n",
    "However, the elephant in the room - our preprocessing algorithm is still not as good as necessary. Example: `</o=enron/ou=na/cn=recipients/cn=dl-ga-all_enron_north_america>`. Below, play around with my updated regexps.\n"
   ]
  },
  {
   "cell_type": "markdown",
   "id": "295499b5-fd2d-4bdf-87f3-f5cb529306f9",
   "metadata": {},
   "source": [
    "\n",
    "## Thoughts scratchpad\n",
    "\n",
    "\n",
    "\n",
    "English and most languages are quite wordy. We can remove a lot of the common words since they add little value to the context. But how do we know what value a word adds to the context? There are a few different methods that we can use:\n",
    "\n",
    "* **TF-IDF (Term Frequency-Inverse Document Frequency)**: among the simplest of the ranking functions. Many of the more sophisticated ranking functions are variants of this.\n",
    "* **BM25 (Okapi BM25)**: refined version of TF-IDF, which adds saturation and frequency normalization.\n",
    "* **Word Embeddings (Word2vec, GloVe, FastText)**: capture semantics instead of just term frequency, but more expensive to compute\n",
    "* **Entropy-Based Weighting**: measures how uniformly a word appears in documents. Words appearing across more documents are likely less important\n",
    "\n",
    "There are many more methods, some even involving machine learning. However, for simplicity, we will use TF-IDF in this project, and may switch it out for a better method later on."
   ]
  }
 ],
 "metadata": {
  "kernelspec": {
   "display_name": "Python 3 (ipykernel)",
   "language": "python",
   "name": "python3"
  },
  "language_info": {
   "codemirror_mode": {
    "name": "ipython",
    "version": 3
   },
   "file_extension": ".py",
   "mimetype": "text/x-python",
   "name": "python",
   "nbconvert_exporter": "python",
   "pygments_lexer": "ipython3",
   "version": "3.13.1"
  }
 },
 "nbformat": 4,
 "nbformat_minor": 5
}
