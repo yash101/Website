{
 "cells": [
  {
   "cell_type": "raw",
   "id": "91e585a7-5abd-4bb4-8045-93f539d55761",
   "metadata": {},
   "source": [
    "root = 'deep-dive'\n",
    "name = 'search-engines'\n",
    "page = 7\n",
    "author = 'yash101'\n",
    "title = 'Search Engines - a Beginner-Friendly Deep Dive'\n",
    "subtitle = 'Workshop 1 - Reverse Index'\n",
    "isPulished = false\n",
    "lastModifiedOn = '2025-02-07T20:56:17.277Z'\n",
    "publishedOn = '2025-02-07T00:00:00.277Z'"
   ]
  },
  {
   "cell_type": "markdown",
   "id": "a682795b-f474-402e-8968-435529ac2919",
   "metadata": {},
   "source": [
    "empty"
   ]
  }
 ],
 "metadata": {
  "kernelspec": {
   "display_name": "Python 3 (ipykernel)",
   "language": "python",
   "name": "python3"
  },
  "language_info": {
   "codemirror_mode": {
    "name": "ipython",
    "version": 3
   },
   "file_extension": ".py",
   "mimetype": "text/x-python",
   "name": "python",
   "nbconvert_exporter": "python",
   "pygments_lexer": "ipython3",
   "version": "3.13.1"
  }
 },
 "nbformat": 4,
 "nbformat_minor": 5
}
