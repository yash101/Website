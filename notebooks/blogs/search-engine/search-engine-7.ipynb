{
 "cells": [
  {
   "cell_type": "code",
   "execution_count": 1,
   "id": "5369cb4b-db1b-4074-88eb-d98d0aff39c5",
   "metadata": {},
   "outputs": [],
   "source": [
    "author = 'Devyash Lodha'\n",
    "title = 'Building a Search Engine - Part 5'\n",
    "lastModified = '2025-02-09T20:56:17.277Z'\n",
    "published = '2035-02-08T21:56:17.277Z'"
   ]
  },
  {
   "cell_type": "markdown",
   "id": "a682795b-f474-402e-8968-435529ac2919",
   "metadata": {},
   "source": [
    "empty"
   ]
  }
 ],
 "metadata": {
  "kernelspec": {
   "display_name": "Python 3 (ipykernel)",
   "language": "python",
   "name": "python3"
  },
  "language_info": {
   "codemirror_mode": {
    "name": "ipython",
    "version": 3
   },
   "file_extension": ".py",
   "mimetype": "text/x-python",
   "name": "python",
   "nbconvert_exporter": "python",
   "pygments_lexer": "ipython3",
   "version": "3.13.1"
  }
 },
 "nbformat": 4,
 "nbformat_minor": 5
}
