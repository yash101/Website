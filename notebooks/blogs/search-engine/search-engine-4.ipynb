{
 "cells": [
  {
   "cell_type": "code",
   "execution_count": 7,
   "id": "32dc3a27-795a-4814-8fad-cd1425278f0b",
   "metadata": {},
   "outputs": [],
   "source": [
    "author = 'Devyash Lodha'\n",
    "title = 'Search Engine - Workshop'\n",
    "lastModified = '2025-02-09T20:56:17.277Z'\n",
    "published = '2025-02-08T20:56:17.277Z'"
   ]
  },
  {
   "cell_type": "markdown",
   "id": "72d4ee0d-905b-48d1-a8fa-473bfa885cc1",
   "metadata": {},
   "source": [
    "Search engines are ubiquitous. Google, Bing, Yahoo, you name it, all of these are internet-wide search engines. Even your favorite social media platforms have a search functionality. How do they work? How can we build our own? And how can we build a search engine which is cheap and easy to run?\n",
    "\n",
    "In this part, you will use an interactive IDE in your browser to implement your own index and query functions on a reverse index. Part 4 will have the working solution."
   ]
  },
  {
   "cell_type": "markdown",
   "id": "d7c7d785-e036-4cec-ac6d-ff0cd3237eee",
   "metadata": {},
   "source": [
    "## Multipart Series\n",
    "\n",
    "1. [Introduction to the Search Problem](/blog/search-engine)\n",
    "2. [Data acquisition, normalization and cleaning](/blog/search-engine-2)\n",
    "3. [Reverse Index and Search](/blog/search-engine-3)\n",
    "4. [**Workshop - Build a Search Engine**](/blog/search-engine-4)\n",
    "5. [Workshop - Build a Search Engine (solution)](/blog/search-engine-5)"
   ]
  },
  {
   "cell_type": "markdown",
   "id": "629ffbf2-591f-4c4d-bc1f-707ea55071f8",
   "metadata": {},
   "source": [
    "## Workshop - Test your Knowledge 🧐\n",
    "\n",
    "Below is an editor. The search and index functions are unimplemented. Try to implement both functions and get the search engine working. The driver code in this workshop will download Æsop's Fables as a JSON, attempt to index your code, and attempt to search a few queries.\n",
    "\n",
    "Below the editor, at the bottom of the article, the main input (`aesop-fables.json`) is rendered.\n",
    "\n",
    "If you get stuck, try to re-read the past few pages to try to better understand the indexing and searching algorithms. If you are still unable to get unstuck, part 4 of this article will have the solution."
   ]
  },
  {
   "cell_type": "raw",
   "id": "61106926-820f-40a9-ae46-db238a676ab4",
   "metadata": {},
   "source": [
    "(() => {\n",
    "    return {\n",
    "        tool: 'code',\n",
    "        props: {\n",
    "            defaultSource: `class SearchEngine {\n",
    "  constructor() {\n",
    "    this.idx = new Map();\n",
    "  }\n",
    "\n",
    "  preprocess(string) {\n",
    "    return string\n",
    "      .normalize('NFKC')                       // Normalization form, compatibility decomposition followed by canonical composition\n",
    "      .normalize('NFD')                        // Normalization form, canonical decomposition\n",
    "      .replace(/(\\\\p{M}|\\\\p{Emoji_Modifier}|\\\\p{P}\\\\p{Sc}\\\\p{Join_Control})/gu, '')  // Remove: marks / diacritics, emoji modifiers, punctuation\n",
    "      .replace(/(\\\\p{Emoji_Presentation}|\\\\p{Extended_Pictographic})/gu, ' $1 ')  // put spaces around emojis so we treat them as words\n",
    "      .replace(/\\\\p{White_Space}/gu, ' ')       // transform whitespace to spaces\n",
    "      .replace(/(\\\\p{Ll})(\\\\p{Lu})/gu, '$1 $2')  // split camelCase\n",
    "      .replace(/(\\\\p{N})(\\\\p{L})/gu, '$1 $2')    // split number followed by word without space\n",
    "      .replace(/(\\\\p{L})(\\\\p{N})/gu, '$1 $2')    // split word followed by number without space\n",
    "      // Replace special characters with spaces\n",
    "      .replace(/(\\\\.|\\\\\\\\|\\\\+|\\\\*|\\\\?|\\\\[|\\\\]|\\\\^|\\\\$|\\\\(|\\\\)|\\\\{|\\\\}|\\\\=|\\\\!|\\\\<|\\\\>|\\\\||\\\\:|\\\\-|\\\\/|,|_|#|\\`|'|\"|~|@|%|&)/g, ' ')\n",
    "      .replace(/\\\\s+/gu, ' ')                   // remove extra whitespace between\n",
    "      .toLowerCase();                          // make all text lowercase\n",
    "  }\n",
    "  \n",
    "  tokenize(string) {\n",
    "    return string\n",
    "      .split(' ')\n",
    "      .filter(str => str && str.length > 0);\n",
    "  }\n",
    "\n",
    "  // TODO: implement this\n",
    "  query(searchQuery) {\n",
    "    const results = [];\n",
    "    \n",
    "    this.printResults(searchQuery, results);\n",
    "  }\n",
    "\n",
    "  printResults(query, results) {\n",
    "    console.log('Query: ', query, ' results: ', results.length);\n",
    "    results = results.slice(0, Math.min(results.length, 5));\n",
    "    for (const result of results) {\n",
    "      console.log('Hits: ', result[1], ' document: ', result[0]);\n",
    "    }\n",
    "\n",
    "    console.log(' ');\n",
    "  }\n",
    "\n",
    "  // TODO: implement this\n",
    "  index(text, uri) {\n",
    "\n",
    "  }\n",
    "\n",
    "  getIdx() {\n",
    "    return this.idx;\n",
    "  }\n",
    "}\n",
    "\n",
    "(() => {\n",
    "  const searchEngine = new SearchEngine();\n",
    "\n",
    "  // Fetch Aesop's fables\n",
    "  fetch('http://localhost:3000/objects/aesop-fables.json')\n",
    "    .then(response => response.json())\n",
    "    .then(corpus => {\n",
    "      for (const story of corpus) {\n",
    "        searchEngine.index(story.text, story.title);\n",
    "      }\n",
    "    })\n",
    "    .then(() => {\n",
    "      // Try searching\n",
    "      searchEngine.query('wolf');\n",
    "      searchEngine.query('cat');\n",
    "      searchEngine.query('dog jumped over wolf and fox');\n",
    "      searchEngine.query('cat at the mouse then the dog barked at the cat');\n",
    "    })\n",
    "    .catch(error => {\n",
    "      console.error('An error ocurred: ', error);\n",
    "    });\n",
    "})();\n",
    "`,\n",
    "            autorun: true,\n",
    "            header: false,\n",
    "        }\n",
    "    }\n",
    "})()"
   ]
  },
  {
   "cell_type": "markdown",
   "id": "6c869592-9d3d-418a-8eb3-1259b0e6193b",
   "metadata": {},
   "source": [
    "## Expected output ✅\n",
    "\n",
    "```\n",
    "Query:  wolf  results:  24\n",
    "Hits:  2  document:  The Kid and the Wolf\n",
    "Hits:  2  document:  The Wolf and the Lion\n",
    "Hits:  1  document:  The Wolf And The Lamb\n",
    "Hits:  1  document:  The Kingdom of the Lion\n",
    "Hits:  1  document:  The Wolf and the Crane\n",
    " \n",
    "Query:  cat  results:  6\n",
    "Hits:  1  document:  The Cat and the Cock\n",
    "Hits:  1  document:  The Cat and the Birds\n",
    "Hits:  1  document:  The Mice in Council\n",
    "Hits:  1  document:  The Cat and the Mice\n",
    "Hits:  1  document:  The Eagle, the Cat, and the Wild Sow\n",
    " \n",
    "Query:  dog jumped over wolf and fox  results:  298\n",
    "Hits:  5  document:  The Fox and the Monkey\n",
    "Hits:  5  document:  The Kid and the Wolf\n",
    "Hits:  4  document:  The Lion, the Wolf, and the Fox\n",
    "Hits:  4  document:  The Wolf and the Lion\n",
    "Hits:  4  document:  The Fox and the Lion\n",
    " \n",
    "Query:  cat at the mouse then the dog barked at the cat  results:  306\n",
    "Hits:  4  document:  The Wolf and the Lion\n",
    "Hits:  3  document:  The Cat and the Birds\n",
    "Hits:  3  document:  The Mice in Council\n",
    "Hits:  3  document:  The Cat and the Mice\n",
    "Hits:  3  document:  The Eagle, the Cat, and the Wild Sow\n",
    "```"
   ]
  },
  {
   "cell_type": "markdown",
   "id": "1a92fcff-732d-4de1-a73e-9e2698e50489",
   "metadata": {},
   "source": [
    "## `aesop-fables.json`"
   ]
  },
  {
   "cell_type": "raw",
   "id": "330b889c-52ea-4872-a50b-712ac4e74ecf",
   "metadata": {},
   "source": [
    "(() => {\n",
    "    return {\n",
    "        tool: 'code',\n",
    "        props: {\n",
    "            sourceUrl: '/objects/aesop-fables.json',\n",
    "            autorun: false,\n",
    "            header: false,\n",
    "        }\n",
    "    }\n",
    "})()"
   ]
  },
  {
   "cell_type": "markdown",
   "id": "6161e115-aa45-427a-9d5b-9dbd08596896",
   "metadata": {},
   "source": [
    "> **More Learning**\n",
    ">\n",
    "> 1. Try editing the preprocessing\n",
    "> 2. Try editing the tokenize function\n",
    "> 3. Try printing parts of your index to inspect it\n",
    "> 4. Are there any anomalies in the index?\n",
    "> 5. Try different search queries"
   ]
  },
  {
   "cell_type": "markdown",
   "id": "08ac053c-ff04-4f17-8a39-bc0a3bca312d",
   "metadata": {},
   "source": [
    "## [Next: Workshop Solution](/blog/search-engine-5)"
   ]
  }
 ],
 "metadata": {
  "kernelspec": {
   "display_name": "Python 3 (ipykernel)",
   "language": "python",
   "name": "python3"
  },
  "language_info": {
   "codemirror_mode": {
    "name": "ipython",
    "version": 3
   },
   "file_extension": ".py",
   "mimetype": "text/x-python",
   "name": "python",
   "nbconvert_exporter": "python",
   "pygments_lexer": "ipython3",
   "version": "3.13.1"
  }
 },
 "nbformat": 4,
 "nbformat_minor": 5
}
