{
 "cells": [
  {
   "cell_type": "raw",
   "id": "db429407-6737-4763-b6fe-5618840c3b9d",
   "metadata": {
    "editable": true,
    "raw_mimetype": "",
    "slideshow": {
     "slide_type": ""
    },
    "tags": []
   },
   "source": [
    "root = 'blog'\n",
    "name = 'good-enough-in-engineering'\n",
    "page = 1\n",
    "title = 'Good Enough?'\n",
    "subtitle = 'when is it \"Good Enough?\"'\n",
    "isPublished = false\n",
    "\n",
    "publishedOn = '2025-03-10T20:56:17.277Z'\n",
    "lastModifiedOn = '2025-03-06T20:56:17.277Z'\n",
    "authors = 'yash101'"
   ]
  },
  {
   "cell_type": "markdown",
   "id": "32459a73-34f4-4af2-bc5d-751045cafe4c",
   "metadata": {
    "editable": true,
    "slideshow": {
     "slide_type": ""
    },
    "tags": []
   },
   "source": [
    "In Engineering, we often have to ask ourself, \"is this good enough?\"\n",
    "\n",
    "This article is a deep dive research-driven piece of defining this common trap in Engineering."
   ]
  },
  {
   "cell_type": "markdown",
   "id": "d458f617-fb6d-49a5-a160-e6d7e83ac90f",
   "metadata": {
    "editable": true,
    "slideshow": {
     "slide_type": ""
    },
    "tags": []
   },
   "source": [
    "## Context\n",
    "\n",
    "As an engineer, it is fun to add more bells and whistles to projects and make it more perfect. I often find myself making the tradeoff, \"is this good enough? Can I move onto the next thing? Or does this need more work?\"\n",
    "\n",
    "This concept hit me recently, as I have been building this website. I decided to complicate it and build a whole website platform on top of Next.js with the goal of writing content in Jupyter notebooks. I figured, why bother using a CMS (content management system)? I have to worry about maintaining a server or backend and it costs money!\n",
    "\n",
    "In the past, I have used Wordpress (feel free to use the Wayback machine to find [devyashis.me](https://devyashis.me)). It took minutes to set up and I got writing pretty quickly.\n",
    "\n",
    "In contrast, building this website has taken a few weeks. I'm already 82 commits in and now it's starting to feel complete."
   ]
  },
  {
   "cell_type": "markdown",
   "id": "311810e8-6b24-4802-be11-a0ea3949b3c8",
   "metadata": {
    "editable": true,
    "slideshow": {
     "slide_type": ""
    },
    "tags": []
   },
   "source": [
    "## The law of Diminishing Returns"
   ]
  },
  {
   "cell_type": "markdown",
   "id": "d16ff0f3-71c0-482f-869b-fce94d4b56ba",
   "metadata": {},
   "source": [
    "Sources used:\n",
    "* [Wikipedia: Diminishing Returns](https://en.wikipedia.org/wiki/Diminishing_returns)\n",
    "* [Investopedia: Law of Diminishing Marginal Returns...](https://www.investopedia.com/terms/l/lawofdiminishingmarginalreturn.asp)\n",
    "\n",
    "The **law of diminishing returns** stems from Economics.\n",
    "\n",
    "It predicts that after achieving a certain optimal output, each additional unit of input results in a smaller output. And in most cases, that change in output can become negative.\n",
    "\n"
   ]
  }
 ],
 "metadata": {
  "kernelspec": {
   "display_name": "Python 3 (ipykernel)",
   "language": "python",
   "name": "python3"
  },
  "language_info": {
   "codemirror_mode": {
    "name": "ipython",
    "version": 3
   },
   "file_extension": ".py",
   "mimetype": "text/x-python",
   "name": "python",
   "nbconvert_exporter": "python",
   "pygments_lexer": "ipython3",
   "version": "3.13.1"
  }
 },
 "nbformat": 4,
 "nbformat_minor": 5
}
