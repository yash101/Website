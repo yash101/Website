{
 "cells": [
  {
   "cell_type": "raw",
   "id": "6ec0653e-636f-4396-a41f-7906c57b5d27",
   "metadata": {},
   "source": [
    "root = 'blog'\n",
    "name = 'scaled-vectorization'\n",
    "page = 2\n",
    "title = 'Vectorization at Scale'\n",
    "subtitle = 'Common data structures and algorithms'\n",
    "isPublished = false\n",
    "\n",
    "publishedOn = '2025-04-07T16:00:00.277Z'\n",
    "lastModifiedOn = '2025-04-07T16:00:00.277Z'\n",
    "authors = 'yash101'\n",
    "\n",
    "opengraph-image = '/assets/objects/blogs/vectorization/opengraph.png'"
   ]
  },
  {
   "cell_type": "markdown",
   "id": "66e87522-77f4-4543-a59b-29bd958dd2d1",
   "metadata": {},
   "source": [
    "Let's take a look at some of the methods we can use to store and retrieve vectors efficiently."
   ]
  },
  {
   "cell_type": "markdown",
   "id": "046bf87a-1f12-4000-9b57-b4e61d731035",
   "metadata": {},
   "source": [
    "## Flat-file, Unindexed\n",
    "\n",
    "This is the method we used "
   ]
  }
 ],
 "metadata": {
  "kernelspec": {
   "display_name": "Python 3 (ipykernel)",
   "language": "python",
   "name": "python3"
  },
  "language_info": {
   "codemirror_mode": {
    "name": "ipython",
    "version": 3
   },
   "file_extension": ".py",
   "mimetype": "text/x-python",
   "name": "python",
   "nbconvert_exporter": "python",
   "pygments_lexer": "ipython3",
   "version": "3.13.1"
  }
 },
 "nbformat": 4,
 "nbformat_minor": 5
}
