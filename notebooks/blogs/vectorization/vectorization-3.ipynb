{
 "cells": [
  {
   "cell_type": "raw",
   "id": "6ae4f4ff-1bc8-400f-bea5-abb39ab63cea",
   "metadata": {},
   "source": [
    "root = 'blog'\n",
    "name = 'vectorization-for-content-recommendation'\n",
    "page = 3\n",
    "title = 'Content Recommendation Systems'\n",
    "subtitle = 'Efficient Vector Storage & Recall'\n",
    "isPublished = false\n",
    "\n",
    "publishedOn = '2025-05-09T16:00:00.277Z'\n",
    "lastModifiedOn = '2025-05-03T16:00:00.277Z'\n",
    "authors = 'yash101'\n",
    "\n",
    "opengraph-image = '/assets/objects/blogs/vectorization/opengraph.png'"
   ]
  },
  {
   "cell_type": "markdown",
   "id": "aec765c2-65db-4546-9155-a4ee702359b7",
   "metadata": {},
   "source": [
    "## Storage & Recall - The Problem\n",
    "\n",
    "In this article, we have so far stored all our embeddings in an array. To find the nearest neighbors to a embedding, we iterated through the array of embeddings linearly, testing each and every embedding for its difference. This does not scale well. Sure, if we have 1 embedding or ~300 (like in our example), that is perfectly performance and also simple. However, if our goal is ever to scale up to millions or billions of embeddings, we need a much more efficient approach.\n",
    "\n",
    "This article aims to go through a few approaches that we can use to more efficiently store and retrieve embeddings."
   ]
  },
  {
   "cell_type": "markdown",
   "id": "840bff89-7f49-4c03-abb9-3542d3da9487",
   "metadata": {},
   "source": [
    "## Locality-Sensitive Hashing (LSH)\n",
    "\n"
   ]
  }
 ],
 "metadata": {
  "kernelspec": {
   "display_name": "Python 3 (ipykernel)",
   "language": "python",
   "name": "python3"
  },
  "language_info": {
   "codemirror_mode": {
    "name": "ipython",
    "version": 3
   },
   "file_extension": ".py",
   "mimetype": "text/x-python",
   "name": "python",
   "nbconvert_exporter": "python",
   "pygments_lexer": "ipython3",
   "version": "3.13.1"
  }
 },
 "nbformat": 4,
 "nbformat_minor": 5
}
