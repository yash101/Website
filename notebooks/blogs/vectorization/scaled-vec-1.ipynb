{
 "cells": [
  {
   "cell_type": "raw",
   "id": "c7df0f2c-338d-4fba-9821-b3f4bbe7e1ab",
   "metadata": {},
   "source": [
    "root = 'blog'\n",
    "name = 'scaled-vectorization'\n",
    "page = 1\n",
    "title = 'Vectorization at Scale'\n",
    "subtitle = 'Efficient Vector Storage & Recall'\n",
    "isPublished = false\n",
    "\n",
    "publishedOn = '2025-04-07T16:00:00.277Z'\n",
    "lastModifiedOn = '2025-04-07T16:00:00.277Z'\n",
    "authors = 'yash101'\n",
    "\n",
    "opengraph-image = '/assets/objects/blogs/vectorization/opengraph.png'"
   ]
  },
  {
   "cell_type": "markdown",
   "id": "41dfe947-1bf2-4d5d-ad60-01ea9da559d7",
   "metadata": {},
   "source": [
    "Datacentric applications need to be capable of efficiently storing and retrieving millions to billions of embeddings. I wrote this article to walk through ways to implement production-ready vectorization focused on nearest-neighbor search.\n",
    "\n",
    "In my initial article on vectorization and embeddings, all demos used less than 500 embeddings. We used linear searches to find the $k-$nearest neighbors. This does not scale well since our performance decreases linearly as we add vectors to our database. If we want to scale up to millions to billions of vectors, we need a better approach."
   ]
  },
  {
   "cell_type": "markdown",
   "id": "cf40efba-3efb-4a73-b66c-72fadb864e3b",
   "metadata": {},
   "source": [
    "## The Problem\n",
    "\n",
    "Datacentric applications need to be capable of efficiently storing and retrieving millions to billions of embeddings. I wrote this article to walk through ways to implement production-ready vectorization focused on nearest-neighbor search.\n",
    "\n",
    "In my initial article on vectorization and embeddings, all demos used less than 500 embeddings. We used linear searches to find the \n",
    "nearest neighbors. This does not scale well since our performance decreases linearly as we add vectors to our database. If we want to scale up to millions to billions of vectors, we need a better approach."
   ]
  }
 ],
 "metadata": {
  "kernelspec": {
   "display_name": "Python 3 (ipykernel)",
   "language": "python",
   "name": "python3"
  },
  "language_info": {
   "codemirror_mode": {
    "name": "ipython",
    "version": 3
   },
   "file_extension": ".py",
   "mimetype": "text/x-python",
   "name": "python",
   "nbconvert_exporter": "python",
   "pygments_lexer": "ipython3",
   "version": "3.13.1"
  }
 },
 "nbformat": 4,
 "nbformat_minor": 5
}
