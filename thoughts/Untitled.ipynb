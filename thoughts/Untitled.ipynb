{
 "cells": [
  {
   "cell_type": "markdown",
   "id": "6a3c8879-820b-4151-8e50-24a8aa0d33de",
   "metadata": {},
   "source": [
    "# AmEx Cybersecurity"
   ]
  },
  {
   "cell_type": "markdown",
   "id": "da9d7e9c-e78f-4dbe-a699-189064757fef",
   "metadata": {},
   "source": [
    "Hi all,\n",
    "\n",
    "I wanted to write this email to follow up on the One Data vulnerability I reported on my last day at AmEx.\n",
    "\n"
   ]
  }
 ],
 "metadata": {
  "kernelspec": {
   "display_name": "Python 3 (ipykernel)",
   "language": "python",
   "name": "python3"
  },
  "language_info": {
   "codemirror_mode": {
    "name": "ipython",
    "version": 3
   },
   "file_extension": ".py",
   "mimetype": "text/x-python",
   "name": "python",
   "nbconvert_exporter": "python",
   "pygments_lexer": "ipython3",
   "version": "3.13.1"
  }
 },
 "nbformat": 4,
 "nbformat_minor": 5
}
